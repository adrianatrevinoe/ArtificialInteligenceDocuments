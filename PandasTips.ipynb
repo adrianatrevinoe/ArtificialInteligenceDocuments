{
  "cells": [
    {
      "cell_type": "markdown",
      "metadata": {
        "colab_type": "text",
        "id": "view-in-github"
      },
      "source": [
        "<a href=\"https://colab.research.google.com/github/adrianatrevinoe/ArtificialInteligenceWorks/blob/main/PandasTips.ipynb\" target=\"_parent\"><img src=\"https://colab.research.google.com/assets/colab-badge.svg\" alt=\"Open In Colab\"/></a>"
      ]
    },
    {
      "cell_type": "markdown",
      "metadata": {
        "id": "LkPvmWIb8tS0"
      },
      "source": [
        "# Pandas Mistakes"
      ]
    },
    {
      "cell_type": "markdown",
      "metadata": {
        "id": "-mOs_ZVf60l1"
      },
      "source": [
        "1. Writing to a csv with unnecesary index"
      ]
    },
    {
      "cell_type": "code",
      "execution_count": 6,
      "metadata": {
        "colab": {
          "base_uri": "https://localhost:8080/"
        },
        "id": "wnv0aWAY68fN",
        "outputId": "085f5d29-ba90-4e4c-bb50-46a4cc766f81"
      },
      "outputs": [
        {
          "ename": "ModuleNotFoundError",
          "evalue": "No module named 'fitter'",
          "output_type": "error",
          "traceback": [
            "\u001b[0;31m---------------------------------------------------------------------------\u001b[0m",
            "\u001b[0;31mModuleNotFoundError\u001b[0m                       Traceback (most recent call last)",
            "\u001b[0;32m/tmp/ipykernel_175071/1378757506.py\u001b[0m in \u001b[0;36m<module>\u001b[0;34m\u001b[0m\n\u001b[1;32m      4\u001b[0m \u001b[0;32mimport\u001b[0m \u001b[0mpandas\u001b[0m \u001b[0;32mas\u001b[0m \u001b[0mpd\u001b[0m\u001b[0;34m\u001b[0m\u001b[0;34m\u001b[0m\u001b[0m\n\u001b[1;32m      5\u001b[0m \u001b[0;32mimport\u001b[0m \u001b[0mseaborn\u001b[0m \u001b[0;32mas\u001b[0m \u001b[0msns\u001b[0m\u001b[0;34m\u001b[0m\u001b[0;34m\u001b[0m\u001b[0m\n\u001b[0;32m----> 6\u001b[0;31m \u001b[0;32mfrom\u001b[0m \u001b[0mfitter\u001b[0m \u001b[0;32mimport\u001b[0m \u001b[0mFitter\u001b[0m\u001b[0;34m,\u001b[0m \u001b[0mget_common_distributions\u001b[0m\u001b[0;34m,\u001b[0m \u001b[0mget_distributions\u001b[0m\u001b[0;34m\u001b[0m\u001b[0;34m\u001b[0m\u001b[0m\n\u001b[0m",
            "\u001b[0;31mModuleNotFoundError\u001b[0m: No module named 'fitter'"
          ]
        }
      ],
      "source": [
        "# Imports standard libraries\n",
        "import numpy as np\n",
        "import matplotlib.pyplot as plt\n",
        "import pandas as pd\n",
        "import seaborn as sns"
      ]
    },
    {
      "cell_type": "code",
      "execution_count": 41,
      "metadata": {
        "id": "P63mA6Mg67yb"
      },
      "outputs": [],
      "source": [
        "# Load data from file\n",
        "df = pd.read_csv(filepath_or_buffer=\"datasets/weight-height.csv\", sep=',', skiprows=0)"
      ]
    },
    {
      "cell_type": "markdown",
      "metadata": {
        "id": "euFE4jZl6z8f"
      },
      "source": [
        "\n",
        "*   When writing with csv with unnecesary non valuable index:\n",
        "\n",
        "\n",
        "```\n",
        "      Index = False\n",
        "\n",
        "      or \n",
        "\n",
        "      index_col = [0]\n",
        "```\n",
        "\n",
        "\n",
        "*   No spaces in columns names"
      ]
    },
    {
      "cell_type": "code",
      "execution_count": 7,
      "metadata": {
        "colab": {
          "base_uri": "https://localhost:8080/",
          "height": 206
        },
        "id": "2E1Cot-S7vnA",
        "outputId": "c6211c62-043a-42cd-ec49-1f3efde1281b"
      },
      "outputs": [
        {
          "data": {
            "text/html": [
              "<div>\n",
              "<style scoped>\n",
              "    .dataframe tbody tr th:only-of-type {\n",
              "        vertical-align: middle;\n",
              "    }\n",
              "\n",
              "    .dataframe tbody tr th {\n",
              "        vertical-align: top;\n",
              "    }\n",
              "\n",
              "    .dataframe thead th {\n",
              "        text-align: right;\n",
              "    }\n",
              "</style>\n",
              "<table border=\"1\" class=\"dataframe\">\n",
              "  <thead>\n",
              "    <tr style=\"text-align: right;\">\n",
              "      <th></th>\n",
              "      <th>Gender</th>\n",
              "      <th>Height</th>\n",
              "      <th>Weight</th>\n",
              "    </tr>\n",
              "  </thead>\n",
              "  <tbody>\n",
              "    <tr>\n",
              "      <th>0</th>\n",
              "      <td>Male</td>\n",
              "      <td>73.847017</td>\n",
              "      <td>241.893563</td>\n",
              "    </tr>\n",
              "    <tr>\n",
              "      <th>1</th>\n",
              "      <td>Male</td>\n",
              "      <td>68.781904</td>\n",
              "      <td>162.310473</td>\n",
              "    </tr>\n",
              "    <tr>\n",
              "      <th>2</th>\n",
              "      <td>Male</td>\n",
              "      <td>74.110105</td>\n",
              "      <td>212.740856</td>\n",
              "    </tr>\n",
              "    <tr>\n",
              "      <th>3</th>\n",
              "      <td>Male</td>\n",
              "      <td>71.730978</td>\n",
              "      <td>220.042470</td>\n",
              "    </tr>\n",
              "    <tr>\n",
              "      <th>4</th>\n",
              "      <td>Male</td>\n",
              "      <td>69.881796</td>\n",
              "      <td>206.349801</td>\n",
              "    </tr>\n",
              "  </tbody>\n",
              "</table>\n",
              "</div>"
            ],
            "text/plain": [
              "  Gender     Height      Weight\n",
              "0   Male  73.847017  241.893563\n",
              "1   Male  68.781904  162.310473\n",
              "2   Male  74.110105  212.740856\n",
              "3   Male  71.730978  220.042470\n",
              "4   Male  69.881796  206.349801"
            ]
          },
          "execution_count": 7,
          "metadata": {},
          "output_type": "execute_result"
        }
      ],
      "source": [
        "df.to_csv('output.csv',index=False)\n",
        "df = pd.read_csv('output.csv')\n",
        "df.head()"
      ]
    },
    {
      "cell_type": "markdown",
      "metadata": {
        "id": "8RYuNV0B85sP"
      },
      "source": [
        "## Queries\n",
        "Instead of \n",
        "\n",
        "\n",
        "```\n",
        "df.loc[(df['Year'] < 2010) & (df['Time'] > 10)]\n",
        "```\n",
        "Use: \n",
        "\n",
        "```\n",
        "df.query('Year < 1980 and Time >10')\n",
        "```\n",
        "\n",
        "\n",
        "\n"
      ]
    },
    {
      "cell_type": "code",
      "execution_count": 8,
      "metadata": {
        "colab": {
          "base_uri": "https://localhost:8080/",
          "height": 0
        },
        "id": "yBQLWrPF8WUs",
        "outputId": "c0871b0f-197f-4c1f-803a-5de530c14473"
      },
      "outputs": [
        {
          "data": {
            "text/html": [
              "<div>\n",
              "<style scoped>\n",
              "    .dataframe tbody tr th:only-of-type {\n",
              "        vertical-align: middle;\n",
              "    }\n",
              "\n",
              "    .dataframe tbody tr th {\n",
              "        vertical-align: top;\n",
              "    }\n",
              "\n",
              "    .dataframe thead th {\n",
              "        text-align: right;\n",
              "    }\n",
              "</style>\n",
              "<table border=\"1\" class=\"dataframe\">\n",
              "  <thead>\n",
              "    <tr style=\"text-align: right;\">\n",
              "      <th></th>\n",
              "      <th>Gender</th>\n",
              "      <th>Height</th>\n",
              "      <th>Weight</th>\n",
              "    </tr>\n",
              "  </thead>\n",
              "  <tbody>\n",
              "    <tr>\n",
              "      <th>4</th>\n",
              "      <td>Male</td>\n",
              "      <td>69.881796</td>\n",
              "      <td>206.349801</td>\n",
              "    </tr>\n",
              "    <tr>\n",
              "      <th>33</th>\n",
              "      <td>Male</td>\n",
              "      <td>69.180161</td>\n",
              "      <td>205.183621</td>\n",
              "    </tr>\n",
              "    <tr>\n",
              "      <th>34</th>\n",
              "      <td>Male</td>\n",
              "      <td>69.577202</td>\n",
              "      <td>204.164125</td>\n",
              "    </tr>\n",
              "    <tr>\n",
              "      <th>86</th>\n",
              "      <td>Male</td>\n",
              "      <td>66.596197</td>\n",
              "      <td>208.345694</td>\n",
              "    </tr>\n",
              "    <tr>\n",
              "      <th>111</th>\n",
              "      <td>Male</td>\n",
              "      <td>68.190684</td>\n",
              "      <td>201.487962</td>\n",
              "    </tr>\n",
              "    <tr>\n",
              "      <th>...</th>\n",
              "      <td>...</td>\n",
              "      <td>...</td>\n",
              "      <td>...</td>\n",
              "    </tr>\n",
              "    <tr>\n",
              "      <th>4661</th>\n",
              "      <td>Male</td>\n",
              "      <td>69.153102</td>\n",
              "      <td>201.994030</td>\n",
              "    </tr>\n",
              "    <tr>\n",
              "      <th>4744</th>\n",
              "      <td>Male</td>\n",
              "      <td>69.859331</td>\n",
              "      <td>202.805975</td>\n",
              "    </tr>\n",
              "    <tr>\n",
              "      <th>4754</th>\n",
              "      <td>Male</td>\n",
              "      <td>69.469447</td>\n",
              "      <td>202.649823</td>\n",
              "    </tr>\n",
              "    <tr>\n",
              "      <th>4840</th>\n",
              "      <td>Male</td>\n",
              "      <td>69.599795</td>\n",
              "      <td>208.948775</td>\n",
              "    </tr>\n",
              "    <tr>\n",
              "      <th>4870</th>\n",
              "      <td>Male</td>\n",
              "      <td>69.969886</td>\n",
              "      <td>203.275695</td>\n",
              "    </tr>\n",
              "  </tbody>\n",
              "</table>\n",
              "<p>173 rows × 3 columns</p>\n",
              "</div>"
            ],
            "text/plain": [
              "     Gender     Height      Weight\n",
              "4      Male  69.881796  206.349801\n",
              "33     Male  69.180161  205.183621\n",
              "34     Male  69.577202  204.164125\n",
              "86     Male  66.596197  208.345694\n",
              "111    Male  68.190684  201.487962\n",
              "...     ...        ...         ...\n",
              "4661   Male  69.153102  201.994030\n",
              "4744   Male  69.859331  202.805975\n",
              "4754   Male  69.469447  202.649823\n",
              "4840   Male  69.599795  208.948775\n",
              "4870   Male  69.969886  203.275695\n",
              "\n",
              "[173 rows x 3 columns]"
            ]
          },
          "execution_count": 8,
          "metadata": {},
          "output_type": "execute_result"
        }
      ],
      "source": [
        "df.query('Height < 70 and Weight > 200')"
      ]
    },
    {
      "cell_type": "markdown",
      "metadata": {
        "id": "UMlRGpXv-WrI"
      },
      "source": [
        "**Don't use string methods to formulate queries**\n",
        "\n",
        "\n",
        "'Year < ' + str{min_height} + .......'"
      ]
    },
    {
      "cell_type": "code",
      "execution_count": 9,
      "metadata": {
        "colab": {
          "base_uri": "https://localhost:8080/",
          "height": 0
        },
        "id": "bS89b6p--kXD",
        "outputId": "d67b2164-fd2e-4785-8a58-0787125a746e"
      },
      "outputs": [
        {
          "data": {
            "text/html": [
              "<div>\n",
              "<style scoped>\n",
              "    .dataframe tbody tr th:only-of-type {\n",
              "        vertical-align: middle;\n",
              "    }\n",
              "\n",
              "    .dataframe tbody tr th {\n",
              "        vertical-align: top;\n",
              "    }\n",
              "\n",
              "    .dataframe thead th {\n",
              "        text-align: right;\n",
              "    }\n",
              "</style>\n",
              "<table border=\"1\" class=\"dataframe\">\n",
              "  <thead>\n",
              "    <tr style=\"text-align: right;\">\n",
              "      <th></th>\n",
              "      <th>Gender</th>\n",
              "      <th>Height</th>\n",
              "      <th>Weight</th>\n",
              "    </tr>\n",
              "  </thead>\n",
              "  <tbody>\n",
              "    <tr>\n",
              "      <th>4</th>\n",
              "      <td>Male</td>\n",
              "      <td>69.881796</td>\n",
              "      <td>206.349801</td>\n",
              "    </tr>\n",
              "    <tr>\n",
              "      <th>33</th>\n",
              "      <td>Male</td>\n",
              "      <td>69.180161</td>\n",
              "      <td>205.183621</td>\n",
              "    </tr>\n",
              "    <tr>\n",
              "      <th>34</th>\n",
              "      <td>Male</td>\n",
              "      <td>69.577202</td>\n",
              "      <td>204.164125</td>\n",
              "    </tr>\n",
              "  </tbody>\n",
              "</table>\n",
              "</div>"
            ],
            "text/plain": [
              "   Gender     Height      Weight\n",
              "4    Male  69.881796  206.349801\n",
              "33   Male  69.180161  205.183621\n",
              "34   Male  69.577202  204.164125"
            ]
          },
          "execution_count": 9,
          "metadata": {},
          "output_type": "execute_result"
        }
      ],
      "source": [
        "min_height = 70\n",
        "min_weight = 200\n",
        "df= df.query('Height < @min_height and Weight > @min_weight')\n",
        "df.head(3)"
      ]
    },
    {
      "cell_type": "markdown",
      "metadata": {
        "id": "NIlRSN8e_Sck"
      },
      "source": [
        "**Don't use inplace = True**\n",
        "It overwrites dataframe with changes\n",
        "\n",
        "\n",
        "```\n",
        "df.fillna(0, inplace = True)\n",
        "df.reset_index(inplace = True)\n",
        "```\n",
        "\n"
      ]
    },
    {
      "cell_type": "markdown",
      "metadata": {
        "id": "kNDNn3jj_0wX"
      },
      "source": [
        "overwrite with the modifications"
      ]
    },
    {
      "cell_type": "code",
      "execution_count": 10,
      "metadata": {
        "id": "G82UCDFl_jVW"
      },
      "outputs": [],
      "source": [
        "df = df.fillna(0)\n",
        "df = df.reset_index()"
      ]
    },
    {
      "cell_type": "markdown",
      "metadata": {
        "id": "I8rzb1ZSAXmi"
      },
      "source": [
        "**Don't iter through cols**\n",
        "\n",
        "To determine rows with height greater than 65\n",
        "\n",
        "\n",
        "```\n",
        "for i, row in df.iterrows():\n",
        "  if row [ 'Height'] > 65:\n",
        "    df.loc[i, 'is_recent'] = True\n",
        "  else:\n",
        "    df.loc[i, 'is_recent'] = False\n",
        "```\n",
        "\n"
      ]
    },
    {
      "cell_type": "code",
      "execution_count": 11,
      "metadata": {
        "colab": {
          "base_uri": "https://localhost:8080/",
          "height": 0
        },
        "id": "64J8e8dNAKNE",
        "outputId": "7de40531-9ffd-4aa7-a438-335f491ca0da"
      },
      "outputs": [
        {
          "data": {
            "text/html": [
              "<div>\n",
              "<style scoped>\n",
              "    .dataframe tbody tr th:only-of-type {\n",
              "        vertical-align: middle;\n",
              "    }\n",
              "\n",
              "    .dataframe tbody tr th {\n",
              "        vertical-align: top;\n",
              "    }\n",
              "\n",
              "    .dataframe thead th {\n",
              "        text-align: right;\n",
              "    }\n",
              "</style>\n",
              "<table border=\"1\" class=\"dataframe\">\n",
              "  <thead>\n",
              "    <tr style=\"text-align: right;\">\n",
              "      <th></th>\n",
              "      <th>index</th>\n",
              "      <th>Gender</th>\n",
              "      <th>Height</th>\n",
              "      <th>Weight</th>\n",
              "      <th>greater_than_70</th>\n",
              "    </tr>\n",
              "  </thead>\n",
              "  <tbody>\n",
              "    <tr>\n",
              "      <th>0</th>\n",
              "      <td>4</td>\n",
              "      <td>Male</td>\n",
              "      <td>69.881796</td>\n",
              "      <td>206.349801</td>\n",
              "      <td>False</td>\n",
              "    </tr>\n",
              "    <tr>\n",
              "      <th>1</th>\n",
              "      <td>33</td>\n",
              "      <td>Male</td>\n",
              "      <td>69.180161</td>\n",
              "      <td>205.183621</td>\n",
              "      <td>False</td>\n",
              "    </tr>\n",
              "    <tr>\n",
              "      <th>2</th>\n",
              "      <td>34</td>\n",
              "      <td>Male</td>\n",
              "      <td>69.577202</td>\n",
              "      <td>204.164125</td>\n",
              "      <td>False</td>\n",
              "    </tr>\n",
              "    <tr>\n",
              "      <th>3</th>\n",
              "      <td>86</td>\n",
              "      <td>Male</td>\n",
              "      <td>66.596197</td>\n",
              "      <td>208.345694</td>\n",
              "      <td>False</td>\n",
              "    </tr>\n",
              "    <tr>\n",
              "      <th>4</th>\n",
              "      <td>111</td>\n",
              "      <td>Male</td>\n",
              "      <td>68.190684</td>\n",
              "      <td>201.487962</td>\n",
              "      <td>False</td>\n",
              "    </tr>\n",
              "    <tr>\n",
              "      <th>...</th>\n",
              "      <td>...</td>\n",
              "      <td>...</td>\n",
              "      <td>...</td>\n",
              "      <td>...</td>\n",
              "      <td>...</td>\n",
              "    </tr>\n",
              "    <tr>\n",
              "      <th>168</th>\n",
              "      <td>4661</td>\n",
              "      <td>Male</td>\n",
              "      <td>69.153102</td>\n",
              "      <td>201.994030</td>\n",
              "      <td>False</td>\n",
              "    </tr>\n",
              "    <tr>\n",
              "      <th>169</th>\n",
              "      <td>4744</td>\n",
              "      <td>Male</td>\n",
              "      <td>69.859331</td>\n",
              "      <td>202.805975</td>\n",
              "      <td>False</td>\n",
              "    </tr>\n",
              "    <tr>\n",
              "      <th>170</th>\n",
              "      <td>4754</td>\n",
              "      <td>Male</td>\n",
              "      <td>69.469447</td>\n",
              "      <td>202.649823</td>\n",
              "      <td>False</td>\n",
              "    </tr>\n",
              "    <tr>\n",
              "      <th>171</th>\n",
              "      <td>4840</td>\n",
              "      <td>Male</td>\n",
              "      <td>69.599795</td>\n",
              "      <td>208.948775</td>\n",
              "      <td>False</td>\n",
              "    </tr>\n",
              "    <tr>\n",
              "      <th>172</th>\n",
              "      <td>4870</td>\n",
              "      <td>Male</td>\n",
              "      <td>69.969886</td>\n",
              "      <td>203.275695</td>\n",
              "      <td>False</td>\n",
              "    </tr>\n",
              "  </tbody>\n",
              "</table>\n",
              "<p>173 rows × 5 columns</p>\n",
              "</div>"
            ],
            "text/plain": [
              "     index Gender     Height      Weight  greater_than_70\n",
              "0        4   Male  69.881796  206.349801            False\n",
              "1       33   Male  69.180161  205.183621            False\n",
              "2       34   Male  69.577202  204.164125            False\n",
              "3       86   Male  66.596197  208.345694            False\n",
              "4      111   Male  68.190684  201.487962            False\n",
              "..     ...    ...        ...         ...              ...\n",
              "168   4661   Male  69.153102  201.994030            False\n",
              "169   4744   Male  69.859331  202.805975            False\n",
              "170   4754   Male  69.469447  202.649823            False\n",
              "171   4840   Male  69.599795  208.948775            False\n",
              "172   4870   Male  69.969886  203.275695            False\n",
              "\n",
              "[173 rows x 5 columns]"
            ]
          },
          "execution_count": 11,
          "metadata": {},
          "output_type": "execute_result"
        }
      ],
      "source": [
        "df['greater_than_70'] = df['Height'] > 70\n",
        "df"
      ]
    },
    {
      "cell_type": "code",
      "execution_count": 12,
      "metadata": {
        "colab": {
          "base_uri": "https://localhost:8080/",
          "height": 0
        },
        "id": "QiJyb4UTBbNL",
        "outputId": "296649ab-2f6a-49c4-c991-44941da70a83"
      },
      "outputs": [
        {
          "data": {
            "text/html": [
              "<div>\n",
              "<style scoped>\n",
              "    .dataframe tbody tr th:only-of-type {\n",
              "        vertical-align: middle;\n",
              "    }\n",
              "\n",
              "    .dataframe tbody tr th {\n",
              "        vertical-align: top;\n",
              "    }\n",
              "\n",
              "    .dataframe thead th {\n",
              "        text-align: right;\n",
              "    }\n",
              "</style>\n",
              "<table border=\"1\" class=\"dataframe\">\n",
              "  <thead>\n",
              "    <tr style=\"text-align: right;\">\n",
              "      <th></th>\n",
              "      <th>index</th>\n",
              "      <th>Gender</th>\n",
              "      <th>Height</th>\n",
              "      <th>Weight</th>\n",
              "      <th>greater_than_70</th>\n",
              "      <th>height_square</th>\n",
              "    </tr>\n",
              "  </thead>\n",
              "  <tbody>\n",
              "    <tr>\n",
              "      <th>0</th>\n",
              "      <td>4</td>\n",
              "      <td>Male</td>\n",
              "      <td>69.881796</td>\n",
              "      <td>206.349801</td>\n",
              "      <td>False</td>\n",
              "      <td>4883.465393</td>\n",
              "    </tr>\n",
              "    <tr>\n",
              "      <th>1</th>\n",
              "      <td>33</td>\n",
              "      <td>Male</td>\n",
              "      <td>69.180161</td>\n",
              "      <td>205.183621</td>\n",
              "      <td>False</td>\n",
              "      <td>4785.894690</td>\n",
              "    </tr>\n",
              "    <tr>\n",
              "      <th>2</th>\n",
              "      <td>34</td>\n",
              "      <td>Male</td>\n",
              "      <td>69.577202</td>\n",
              "      <td>204.164125</td>\n",
              "      <td>False</td>\n",
              "      <td>4840.987089</td>\n",
              "    </tr>\n",
              "  </tbody>\n",
              "</table>\n",
              "</div>"
            ],
            "text/plain": [
              "   index Gender     Height      Weight  greater_than_70  height_square\n",
              "0      4   Male  69.881796  206.349801            False    4883.465393\n",
              "1     33   Male  69.180161  205.183621            False    4785.894690\n",
              "2     34   Male  69.577202  204.164125            False    4840.987089"
            ]
          },
          "execution_count": 12,
          "metadata": {},
          "output_type": "execute_result"
        }
      ],
      "source": [
        "df['height_square'] = df.apply(lambda row: row['Height']**2, axis = 1)\n",
        "df.head(3)"
      ]
    },
    {
      "cell_type": "markdown",
      "metadata": {
        "id": "7sPy0DsDBzhZ"
      },
      "source": [
        "**It's best to create a .copy of the dataframe to edit the dataframe**"
      ]
    },
    {
      "cell_type": "code",
      "execution_count": 13,
      "metadata": {
        "colab": {
          "base_uri": "https://localhost:8080/",
          "height": 0
        },
        "id": "ZrhsVkJ5B_G7",
        "outputId": "820cd7e1-1c7b-455f-8a7a-e0f6d4fbaa98"
      },
      "outputs": [
        {
          "data": {
            "text/html": [
              "<div>\n",
              "<style scoped>\n",
              "    .dataframe tbody tr th:only-of-type {\n",
              "        vertical-align: middle;\n",
              "    }\n",
              "\n",
              "    .dataframe tbody tr th {\n",
              "        vertical-align: top;\n",
              "    }\n",
              "\n",
              "    .dataframe thead th {\n",
              "        text-align: right;\n",
              "    }\n",
              "</style>\n",
              "<table border=\"1\" class=\"dataframe\">\n",
              "  <thead>\n",
              "    <tr style=\"text-align: right;\">\n",
              "      <th></th>\n",
              "      <th>index</th>\n",
              "      <th>Gender</th>\n",
              "      <th>Height</th>\n",
              "      <th>Weight</th>\n",
              "      <th>greater_than_70</th>\n",
              "      <th>height_square</th>\n",
              "    </tr>\n",
              "  </thead>\n",
              "  <tbody>\n",
              "  </tbody>\n",
              "</table>\n",
              "</div>"
            ],
            "text/plain": [
              "Empty DataFrame\n",
              "Columns: [index, Gender, Height, Weight, greater_than_70, height_square]\n",
              "Index: []"
            ]
          },
          "execution_count": 13,
          "metadata": {},
          "output_type": "execute_result"
        }
      ],
      "source": [
        "df_tall= df.query('Height > 70').copy()\n",
        "# df_tall['super_tall'] = df_tall['Height']\n",
        "df_tall.head(3)"
      ]
    },
    {
      "cell_type": "markdown",
      "metadata": {
        "id": "EYYo1CZjC-FT"
      },
      "source": [
        "Apply changes not all at once\n",
        "\n",
        "\n",
        "```\n",
        "df2 = df.query('Year > 1975')\n",
        "df3= df2.groupby(['Athlete'] ) [['Time']].min()\n",
        "df_out = df3.sort_values('Time')\n",
        "df out\n",
        "```"
      ]
    },
    {
      "cell_type": "code",
      "execution_count": 78,
      "metadata": {
        "colab": {
          "base_uri": "https://localhost:8080/",
          "height": 0
        },
        "id": "VASL5RJgDEIq",
        "outputId": "261d29d9-c82f-4e3f-9f67-1a588b3d964e"
      },
      "outputs": [
        {
          "data": {
            "text/html": [
              "\n",
              "  <div id=\"df-34b742fc-4c18-4d63-88c6-49481dd7ff86\">\n",
              "    <div class=\"colab-df-container\">\n",
              "      <div>\n",
              "<style scoped>\n",
              "    .dataframe tbody tr th:only-of-type {\n",
              "        vertical-align: middle;\n",
              "    }\n",
              "\n",
              "    .dataframe tbody tr th {\n",
              "        vertical-align: top;\n",
              "    }\n",
              "\n",
              "    .dataframe thead th {\n",
              "        text-align: right;\n",
              "    }\n",
              "</style>\n",
              "<table border=\"1\" class=\"dataframe\">\n",
              "  <thead>\n",
              "    <tr style=\"text-align: right;\">\n",
              "      <th></th>\n",
              "      <th>index</th>\n",
              "      <th>Gender</th>\n",
              "      <th>Height</th>\n",
              "      <th>Weight</th>\n",
              "      <th>greater_than_70</th>\n",
              "      <th>height_square</th>\n",
              "    </tr>\n",
              "  </thead>\n",
              "  <tbody>\n",
              "    <tr>\n",
              "      <th>124</th>\n",
              "      <td>3524</td>\n",
              "      <td>Male</td>\n",
              "      <td>66.145868</td>\n",
              "      <td>202.130274</td>\n",
              "      <td>False</td>\n",
              "      <td>4375.275836</td>\n",
              "    </tr>\n",
              "    <tr>\n",
              "      <th>3</th>\n",
              "      <td>86</td>\n",
              "      <td>Male</td>\n",
              "      <td>66.596197</td>\n",
              "      <td>208.345694</td>\n",
              "      <td>False</td>\n",
              "      <td>4435.053393</td>\n",
              "    </tr>\n",
              "    <tr>\n",
              "      <th>99</th>\n",
              "      <td>2815</td>\n",
              "      <td>Male</td>\n",
              "      <td>67.075852</td>\n",
              "      <td>203.493687</td>\n",
              "      <td>False</td>\n",
              "      <td>4499.169911</td>\n",
              "    </tr>\n",
              "    <tr>\n",
              "      <th>7</th>\n",
              "      <td>163</td>\n",
              "      <td>Male</td>\n",
              "      <td>67.233931</td>\n",
              "      <td>203.350339</td>\n",
              "      <td>False</td>\n",
              "      <td>4520.401467</td>\n",
              "    </tr>\n",
              "    <tr>\n",
              "      <th>40</th>\n",
              "      <td>953</td>\n",
              "      <td>Male</td>\n",
              "      <td>67.283507</td>\n",
              "      <td>203.135760</td>\n",
              "      <td>False</td>\n",
              "      <td>4527.070371</td>\n",
              "    </tr>\n",
              "    <tr>\n",
              "      <th>...</th>\n",
              "      <td>...</td>\n",
              "      <td>...</td>\n",
              "      <td>...</td>\n",
              "      <td>...</td>\n",
              "      <td>...</td>\n",
              "      <td>...</td>\n",
              "    </tr>\n",
              "    <tr>\n",
              "      <th>23</th>\n",
              "      <td>485</td>\n",
              "      <td>Male</td>\n",
              "      <td>69.974301</td>\n",
              "      <td>212.804259</td>\n",
              "      <td>False</td>\n",
              "      <td>4896.402783</td>\n",
              "    </tr>\n",
              "    <tr>\n",
              "      <th>66</th>\n",
              "      <td>1622</td>\n",
              "      <td>Male</td>\n",
              "      <td>69.983137</td>\n",
              "      <td>206.414412</td>\n",
              "      <td>False</td>\n",
              "      <td>4897.639529</td>\n",
              "    </tr>\n",
              "    <tr>\n",
              "      <th>57</th>\n",
              "      <td>1446</td>\n",
              "      <td>Male</td>\n",
              "      <td>69.989953</td>\n",
              "      <td>208.107783</td>\n",
              "      <td>False</td>\n",
              "      <td>4898.593522</td>\n",
              "    </tr>\n",
              "    <tr>\n",
              "      <th>148</th>\n",
              "      <td>4137</td>\n",
              "      <td>Male</td>\n",
              "      <td>69.990098</td>\n",
              "      <td>206.660949</td>\n",
              "      <td>False</td>\n",
              "      <td>4898.613872</td>\n",
              "    </tr>\n",
              "    <tr>\n",
              "      <th>86</th>\n",
              "      <td>2162</td>\n",
              "      <td>Male</td>\n",
              "      <td>69.994290</td>\n",
              "      <td>212.056981</td>\n",
              "      <td>False</td>\n",
              "      <td>4899.200621</td>\n",
              "    </tr>\n",
              "  </tbody>\n",
              "</table>\n",
              "<p>173 rows × 6 columns</p>\n",
              "</div>\n",
              "      <button class=\"colab-df-convert\" onclick=\"convertToInteractive('df-34b742fc-4c18-4d63-88c6-49481dd7ff86')\"\n",
              "              title=\"Convert this dataframe to an interactive table.\"\n",
              "              style=\"display:none;\">\n",
              "        \n",
              "  <svg xmlns=\"http://www.w3.org/2000/svg\" height=\"24px\"viewBox=\"0 0 24 24\"\n",
              "       width=\"24px\">\n",
              "    <path d=\"M0 0h24v24H0V0z\" fill=\"none\"/>\n",
              "    <path d=\"M18.56 5.44l.94 2.06.94-2.06 2.06-.94-2.06-.94-.94-2.06-.94 2.06-2.06.94zm-11 1L8.5 8.5l.94-2.06 2.06-.94-2.06-.94L8.5 2.5l-.94 2.06-2.06.94zm10 10l.94 2.06.94-2.06 2.06-.94-2.06-.94-.94-2.06-.94 2.06-2.06.94z\"/><path d=\"M17.41 7.96l-1.37-1.37c-.4-.4-.92-.59-1.43-.59-.52 0-1.04.2-1.43.59L10.3 9.45l-7.72 7.72c-.78.78-.78 2.05 0 2.83L4 21.41c.39.39.9.59 1.41.59.51 0 1.02-.2 1.41-.59l7.78-7.78 2.81-2.81c.8-.78.8-2.07 0-2.86zM5.41 20L4 18.59l7.72-7.72 1.47 1.35L5.41 20z\"/>\n",
              "  </svg>\n",
              "      </button>\n",
              "      \n",
              "  <style>\n",
              "    .colab-df-container {\n",
              "      display:flex;\n",
              "      flex-wrap:wrap;\n",
              "      gap: 12px;\n",
              "    }\n",
              "\n",
              "    .colab-df-convert {\n",
              "      background-color: #E8F0FE;\n",
              "      border: none;\n",
              "      border-radius: 50%;\n",
              "      cursor: pointer;\n",
              "      display: none;\n",
              "      fill: #1967D2;\n",
              "      height: 32px;\n",
              "      padding: 0 0 0 0;\n",
              "      width: 32px;\n",
              "    }\n",
              "\n",
              "    .colab-df-convert:hover {\n",
              "      background-color: #E2EBFA;\n",
              "      box-shadow: 0px 1px 2px rgba(60, 64, 67, 0.3), 0px 1px 3px 1px rgba(60, 64, 67, 0.15);\n",
              "      fill: #174EA6;\n",
              "    }\n",
              "\n",
              "    [theme=dark] .colab-df-convert {\n",
              "      background-color: #3B4455;\n",
              "      fill: #D2E3FC;\n",
              "    }\n",
              "\n",
              "    [theme=dark] .colab-df-convert:hover {\n",
              "      background-color: #434B5C;\n",
              "      box-shadow: 0px 1px 3px 1px rgba(0, 0, 0, 0.15);\n",
              "      filter: drop-shadow(0px 1px 2px rgba(0, 0, 0, 0.3));\n",
              "      fill: #FFFFFF;\n",
              "    }\n",
              "  </style>\n",
              "\n",
              "      <script>\n",
              "        const buttonEl =\n",
              "          document.querySelector('#df-34b742fc-4c18-4d63-88c6-49481dd7ff86 button.colab-df-convert');\n",
              "        buttonEl.style.display =\n",
              "          google.colab.kernel.accessAllowed ? 'block' : 'none';\n",
              "\n",
              "        async function convertToInteractive(key) {\n",
              "          const element = document.querySelector('#df-34b742fc-4c18-4d63-88c6-49481dd7ff86');\n",
              "          const dataTable =\n",
              "            await google.colab.kernel.invokeFunction('convertToInteractive',\n",
              "                                                     [key], {});\n",
              "          if (!dataTable) return;\n",
              "\n",
              "          const docLinkHtml = 'Like what you see? Visit the ' +\n",
              "            '<a target=\"_blank\" href=https://colab.research.google.com/notebooks/data_table.ipynb>data table notebook</a>'\n",
              "            + ' to learn more about interactive tables.';\n",
              "          element.innerHTML = '';\n",
              "          dataTable['output_type'] = 'display_data';\n",
              "          await google.colab.output.renderOutput(dataTable, element);\n",
              "          const docLink = document.createElement('div');\n",
              "          docLink.innerHTML = docLinkHtml;\n",
              "          element.appendChild(docLink);\n",
              "        }\n",
              "      </script>\n",
              "    </div>\n",
              "  </div>\n",
              "  "
            ],
            "text/plain": [
              "     index Gender     Height      Weight  greater_than_70  height_square\n",
              "124   3524   Male  66.145868  202.130274            False    4375.275836\n",
              "3       86   Male  66.596197  208.345694            False    4435.053393\n",
              "99    2815   Male  67.075852  203.493687            False    4499.169911\n",
              "7      163   Male  67.233931  203.350339            False    4520.401467\n",
              "40     953   Male  67.283507  203.135760            False    4527.070371\n",
              "..     ...    ...        ...         ...              ...            ...\n",
              "23     485   Male  69.974301  212.804259            False    4896.402783\n",
              "66    1622   Male  69.983137  206.414412            False    4897.639529\n",
              "57    1446   Male  69.989953  208.107783            False    4898.593522\n",
              "148   4137   Male  69.990098  206.660949            False    4898.613872\n",
              "86    2162   Male  69.994290  212.056981            False    4899.200621\n",
              "\n",
              "[173 rows x 6 columns]"
            ]
          },
          "execution_count": 78,
          "metadata": {},
          "output_type": "execute_result"
        }
      ],
      "source": [
        "df_out = (df.query('Height > 50')\n",
        "  # .groupby(['Weight'])[['Gender']].min()\n",
        "  .sort_values('Height')\n",
        ")\n",
        "df_out"
      ]
    },
    {
      "cell_type": "code",
      "execution_count": 14,
      "metadata": {
        "colab": {
          "base_uri": "https://localhost:8080/",
          "height": 0
        },
        "id": "1rx7FczWGgCO",
        "outputId": "f3366ae2-9204-44e2-b72d-83fe86f62799"
      },
      "outputs": [
        {
          "data": {
            "text/html": [
              "<div>\n",
              "<style scoped>\n",
              "    .dataframe tbody tr th:only-of-type {\n",
              "        vertical-align: middle;\n",
              "    }\n",
              "\n",
              "    .dataframe tbody tr th {\n",
              "        vertical-align: top;\n",
              "    }\n",
              "\n",
              "    .dataframe thead th {\n",
              "        text-align: right;\n",
              "    }\n",
              "</style>\n",
              "<table border=\"1\" class=\"dataframe\">\n",
              "  <thead>\n",
              "    <tr style=\"text-align: right;\">\n",
              "      <th></th>\n",
              "      <th>index</th>\n",
              "      <th>Gender</th>\n",
              "      <th>Height</th>\n",
              "      <th>Weight</th>\n",
              "      <th>greater_than_70</th>\n",
              "      <th>height_square</th>\n",
              "      <th>sub70</th>\n",
              "    </tr>\n",
              "  </thead>\n",
              "  <tbody>\n",
              "    <tr>\n",
              "      <th>0</th>\n",
              "      <td>4</td>\n",
              "      <td>Male</td>\n",
              "      <td>69.881796</td>\n",
              "      <td>206.349801</td>\n",
              "      <td>False</td>\n",
              "      <td>4883.465393</td>\n",
              "      <td>True</td>\n",
              "    </tr>\n",
              "    <tr>\n",
              "      <th>1</th>\n",
              "      <td>33</td>\n",
              "      <td>Male</td>\n",
              "      <td>69.180161</td>\n",
              "      <td>205.183621</td>\n",
              "      <td>False</td>\n",
              "      <td>4785.894690</td>\n",
              "      <td>True</td>\n",
              "    </tr>\n",
              "    <tr>\n",
              "      <th>2</th>\n",
              "      <td>34</td>\n",
              "      <td>Male</td>\n",
              "      <td>69.577202</td>\n",
              "      <td>204.164125</td>\n",
              "      <td>False</td>\n",
              "      <td>4840.987089</td>\n",
              "      <td>True</td>\n",
              "    </tr>\n",
              "    <tr>\n",
              "      <th>3</th>\n",
              "      <td>86</td>\n",
              "      <td>Male</td>\n",
              "      <td>66.596197</td>\n",
              "      <td>208.345694</td>\n",
              "      <td>False</td>\n",
              "      <td>4435.053393</td>\n",
              "      <td>True</td>\n",
              "    </tr>\n",
              "    <tr>\n",
              "      <th>4</th>\n",
              "      <td>111</td>\n",
              "      <td>Male</td>\n",
              "      <td>68.190684</td>\n",
              "      <td>201.487962</td>\n",
              "      <td>False</td>\n",
              "      <td>4649.969385</td>\n",
              "      <td>True</td>\n",
              "    </tr>\n",
              "  </tbody>\n",
              "</table>\n",
              "</div>"
            ],
            "text/plain": [
              "   index Gender     Height      Weight  greater_than_70  height_square  sub70\n",
              "0      4   Male  69.881796  206.349801            False    4883.465393   True\n",
              "1     33   Male  69.180161  205.183621            False    4785.894690   True\n",
              "2     34   Male  69.577202  204.164125            False    4840.987089   True\n",
              "3     86   Male  66.596197  208.345694            False    4435.053393   True\n",
              "4    111   Male  68.190684  201.487962            False    4649.969385   True"
            ]
          },
          "execution_count": 14,
          "metadata": {},
          "output_type": "execute_result"
        }
      ],
      "source": [
        "df_bool = df.copy()\n",
        "df_bool['sub70'] = df_bool['Height'] < 70\n",
        "df_bool.head(5)"
      ]
    },
    {
      "cell_type": "code",
      "execution_count": 15,
      "metadata": {
        "colab": {
          "base_uri": "https://localhost:8080/",
          "height": 0
        },
        "id": "pJV0Vs3vHnZQ",
        "outputId": "642c96f0-1835-4c13-e678-93236d4d0238"
      },
      "outputs": [
        {
          "data": {
            "image/png": "[encoded data removed]",
            "text/plain": [
              "<Figure size 640x480 with 1 Axes>"
            ]
          },
          "metadata": {},
          "output_type": "display_data"
        }
      ],
      "source": [
        "ax = df.plot(kind = 'scatter',\n",
        "             x = 'Height',\n",
        "             y = 'Weight',\n",
        "             title = 'Height vs. Weight'\n",
        "             )"
      ]
    },
    {
      "cell_type": "markdown",
      "metadata": {
        "id": "FWaBBXVtIert"
      },
      "source": [
        "**Don't use string methods manually**"
      ]
    },
    {
      "cell_type": "code",
      "execution_count": 16,
      "metadata": {
        "colab": {
          "base_uri": "https://localhost:8080/"
        },
        "id": "7LPMCta0IUmc",
        "outputId": "6a6d05f8-8041-4bf0-94d2-a7472b8224b5"
      },
      "outputs": [
        {
          "data": {
            "text/plain": [
              "<bound method NDFrame.head of      index Gender     Height      Weight  greater_than_70  height_square  \\\n",
              "0        4   Male  69.881796  206.349801            False    4883.465393   \n",
              "1       33   Male  69.180161  205.183621            False    4785.894690   \n",
              "2       34   Male  69.577202  204.164125            False    4840.987089   \n",
              "3       86   Male  66.596197  208.345694            False    4435.053393   \n",
              "4      111   Male  68.190684  201.487962            False    4649.969385   \n",
              "..     ...    ...        ...         ...              ...            ...   \n",
              "168   4661   Male  69.153102  201.994030            False    4782.151557   \n",
              "169   4744   Male  69.859331  202.805975            False    4880.326189   \n",
              "170   4754   Male  69.469447  202.649823            False    4826.004041   \n",
              "171   4840   Male  69.599795  208.948775            False    4844.131457   \n",
              "172   4870   Male  69.969886  203.275695            False    4895.784924   \n",
              "\n",
              "    Gender_Upper  \n",
              "0           MALE  \n",
              "1           MALE  \n",
              "2           MALE  \n",
              "3           MALE  \n",
              "4           MALE  \n",
              "..           ...  \n",
              "168         MALE  \n",
              "169         MALE  \n",
              "170         MALE  \n",
              "171         MALE  \n",
              "172         MALE  \n",
              "\n",
              "[173 rows x 7 columns]>"
            ]
          },
          "execution_count": 16,
          "metadata": {},
          "output_type": "execute_result"
        }
      ],
      "source": [
        "df['Gender_Upper'] = df['Gender'].str.upper()\n",
        "df.head"
      ]
    },
    {
      "cell_type": "markdown",
      "metadata": {
        "id": "RA067H37KkVJ"
      },
      "source": [
        "\n",
        "**Don't repeat code**\n",
        "```\n",
        "# Transform mens\n",
        "dfw = pd. read_csv('womens 100m.csv')\n",
        "dfw['Time_Norm'] = dfw['Time'] / dfw['Time'].mean()\n",
        "d'fw['Place'] = dfw['Place'].str.lower()\n",
        "dfw.head()\n",
        "\n",
        "# Transform womens\n",
        "|dfm = pd. read_csv ('mens 100m.csv')\n",
        "dfm ['Time_Norm'] = dfm['Time'] / dfm ['Time'].mean()\n",
        "dfm['Place'] = dfm['Place'].str.lower()\n",
        "dfm.head()\n",
        "```\n",
        "\n",
        "\n",
        "\n",
        "```\n",
        "def process data(df):\n",
        "  df['Time_Norm'] = df['Time'] / df['Time'].mean()\n",
        "  df [ 'Place'] = df['Place'].str.lower()\n",
        "  return df\n",
        "\n",
        "dfw = pd. read csv ('womens 100m.csv')\n",
        "dfm = pd. read_csv ('mens 100m.csv')\n",
        "\n",
        "dfm = process_data(dfm)\n",
        "dfw = process_data(dfw)| I\n",
        "dfw\n",
        "```\n",
        "\n",
        "\n",
        "\n"
      ]
    },
    {
      "cell_type": "markdown",
      "metadata": {
        "id": "_uZjirKYLSp1"
      },
      "source": [
        "**Rename Columns**\n",
        "\n",
        "\n",
        "```\n",
        "df = pd. read_csv('mens 100m.csv')\n",
        "print('Old Columns:', df.columns.tolist())\n",
        "df.columns = ['Race_Year', 'Time', 'Athlete', 'Place', 'Name']|\n",
        "print('New Columns:', df.columns.tolist())\n",
        "df.head()\n",
        "```\n",
        "\n",
        "---> good way\n",
        "```\n",
        "df = pd.read_csv('mens 100m.csv')\n",
        "df = df. rename (columns={'Year': 'Race_Year'})\n",
        "df.head()\n",
        "\n",
        "```\n",
        "\n"
      ]
    },
    {
      "cell_type": "code",
      "execution_count": 17,
      "metadata": {
        "colab": {
          "base_uri": "https://localhost:8080/",
          "height": 0
        },
        "id": "GxB5vYg7LnUG",
        "outputId": "8a675039-63dd-41e3-fd7f-e43ae9e11adf"
      },
      "outputs": [
        {
          "data": {
            "text/html": [
              "<div>\n",
              "<style scoped>\n",
              "    .dataframe tbody tr th:only-of-type {\n",
              "        vertical-align: middle;\n",
              "    }\n",
              "\n",
              "    .dataframe tbody tr th {\n",
              "        vertical-align: top;\n",
              "    }\n",
              "\n",
              "    .dataframe thead th {\n",
              "        text-align: right;\n",
              "    }\n",
              "</style>\n",
              "<table border=\"1\" class=\"dataframe\">\n",
              "  <thead>\n",
              "    <tr style=\"text-align: right;\">\n",
              "      <th></th>\n",
              "      <th>index</th>\n",
              "      <th>Genders New</th>\n",
              "      <th>Height</th>\n",
              "      <th>Weight</th>\n",
              "      <th>greater_than_70</th>\n",
              "      <th>height_square</th>\n",
              "      <th>sub70</th>\n",
              "    </tr>\n",
              "  </thead>\n",
              "  <tbody>\n",
              "    <tr>\n",
              "      <th>0</th>\n",
              "      <td>4</td>\n",
              "      <td>Male</td>\n",
              "      <td>69.881796</td>\n",
              "      <td>206.349801</td>\n",
              "      <td>False</td>\n",
              "      <td>4883.465393</td>\n",
              "      <td>True</td>\n",
              "    </tr>\n",
              "    <tr>\n",
              "      <th>1</th>\n",
              "      <td>33</td>\n",
              "      <td>Male</td>\n",
              "      <td>69.180161</td>\n",
              "      <td>205.183621</td>\n",
              "      <td>False</td>\n",
              "      <td>4785.894690</td>\n",
              "      <td>True</td>\n",
              "    </tr>\n",
              "  </tbody>\n",
              "</table>\n",
              "</div>"
            ],
            "text/plain": [
              "   index Genders New     Height      Weight  greater_than_70  height_square  \\\n",
              "0      4        Male  69.881796  206.349801            False    4883.465393   \n",
              "1     33        Male  69.180161  205.183621            False    4785.894690   \n",
              "\n",
              "   sub70  \n",
              "0   True  \n",
              "1   True  "
            ]
          },
          "execution_count": 17,
          "metadata": {},
          "output_type": "execute_result"
        }
      ],
      "source": [
        "df_bool = df_bool.rename(columns={'Gender': 'Genders New'})\n",
        "df_bool.head(2)"
      ]
    },
    {
      "cell_type": "markdown",
      "metadata": {
        "id": "Zbi1mxjNMFPU"
      },
      "source": [
        "**Aggregating(group) by groups**\n",
        "\n",
        "Return lowest men and women time value\n",
        "\n",
        "```\n",
        "mens_record = df.loc[df['Grouping'] == 'Mens']['Time'].min()\n",
        "womens_record = df.loc[df['Grouping'] == 'Womens']['Time'].min()\n",
        "print (mens_record, womens_record)\n",
        "```\n",
        "--->\n",
        "\n",
        "```\n",
        "df.groupby('Grouping')['Time'].min()\n",
        "```\n",
        "\n",
        "\n",
        "\n"
      ]
    },
    {
      "cell_type": "code",
      "execution_count": 18,
      "metadata": {
        "colab": {
          "base_uri": "https://localhost:8080/"
        },
        "id": "WhkWuPcNMl1p",
        "outputId": "fd869fb4-cb76-4aaf-d616-8c91051fc631"
      },
      "outputs": [
        {
          "data": {
            "text/plain": [
              "Gender\n",
              "Male    66.145868\n",
              "Name: Height, dtype: float64"
            ]
          },
          "execution_count": 18,
          "metadata": {},
          "output_type": "execute_result"
        }
      ],
      "source": [
        "df.groupby('Gender')['Height'].min()"
      ]
    },
    {
      "cell_type": "code",
      "execution_count": 19,
      "metadata": {
        "colab": {
          "base_uri": "https://localhost:8080/"
        },
        "id": "eYKxW-lENMWh",
        "outputId": "0da35ac6-45db-4722-ea29-9b2ca5675c09"
      },
      "outputs": [
        {
          "data": {
            "text/plain": [
              "Gender\n",
              "Male    69.21371\n",
              "Name: Height, dtype: float64"
            ]
          },
          "execution_count": 19,
          "metadata": {},
          "output_type": "execute_result"
        }
      ],
      "source": [
        "df.groupby('Gender')['Height'].mean()"
      ]
    },
    {
      "cell_type": "markdown",
      "metadata": {
        "id": "kgP3OEfZNP2R"
      },
      "source": [
        "**Looping over rows in df to create groupings**\n",
        "\n",
        "here we iterate over each row in df, storing the results after each iter\n",
        "\n",
        "```\n",
        "mens_times = []\n",
        "womens_times = []\n",
        "# Get mens and womens average\n",
        "for i, row in df.iterrows():\n",
        "  group = row.Grouping\n",
        "  if group == \"Mens\":\n",
        "    mens_times.append(row. Time)\n",
        "  else:\n",
        "    womens_times.append(row. Time)\n",
        "\n",
        "avg_mens = np.mean(mens_times)\n",
        "avg_womens np.mean(womens_times)\n",
        "mens_count = len (mens_times)\n",
        "womens_count = len (womens_times)\n",
        "print (avg_mens, avg_womens, mens_count, womens_count)\n",
        "```\n",
        "-->\n",
        "\n",
        "```\n",
        "df.groupby('Grouping') [ 'Time'].agg ( ['mean', 'count'])\n",
        "```"
      ]
    },
    {
      "cell_type": "code",
      "execution_count": 20,
      "metadata": {
        "colab": {
          "base_uri": "https://localhost:8080/",
          "height": 0
        },
        "id": "EcyZlSqZNtAu",
        "outputId": "d79b4ef6-b12a-43a3-9759-89163290573a"
      },
      "outputs": [
        {
          "data": {
            "text/html": [
              "<div>\n",
              "<style scoped>\n",
              "    .dataframe tbody tr th:only-of-type {\n",
              "        vertical-align: middle;\n",
              "    }\n",
              "\n",
              "    .dataframe tbody tr th {\n",
              "        vertical-align: top;\n",
              "    }\n",
              "\n",
              "    .dataframe thead th {\n",
              "        text-align: right;\n",
              "    }\n",
              "</style>\n",
              "<table border=\"1\" class=\"dataframe\">\n",
              "  <thead>\n",
              "    <tr style=\"text-align: right;\">\n",
              "      <th></th>\n",
              "      <th>mean</th>\n",
              "      <th>count</th>\n",
              "      <th>std</th>\n",
              "    </tr>\n",
              "    <tr>\n",
              "      <th>Gender</th>\n",
              "      <th></th>\n",
              "      <th></th>\n",
              "      <th></th>\n",
              "    </tr>\n",
              "  </thead>\n",
              "  <tbody>\n",
              "    <tr>\n",
              "      <th>Male</th>\n",
              "      <td>69.21371</td>\n",
              "      <td>173</td>\n",
              "      <td>0.704999</td>\n",
              "    </tr>\n",
              "  </tbody>\n",
              "</table>\n",
              "</div>"
            ],
            "text/plain": [
              "            mean  count       std\n",
              "Gender                           \n",
              "Male    69.21371    173  0.704999"
            ]
          },
          "execution_count": 20,
          "metadata": {},
          "output_type": "execute_result"
        }
      ],
      "source": [
        "df.groupby('Gender')['Height'].agg(['mean','count', 'std'])"
      ]
    },
    {
      "cell_type": "markdown",
      "metadata": {
        "id": "P6IHrP2DOL9t"
      },
      "source": [
        "**Calculate change in series**\n",
        "\n",
        "*   diff()\n",
        "*   pct_change()\n",
        "\n",
        "```\n",
        "import pandas as pd\n",
        "df = pd. read_csv ('womens 100m.csv')\n",
        "df['perc_change'] = df['Time'].pct_change()\n",
        "df['change'] = df['Time'}.diff()\n",
        "df.head()\n",
        "```\n",
        "\n"
      ]
    },
    {
      "cell_type": "markdown",
      "metadata": {
        "id": "HefQYfsWOnQS"
      },
      "source": [
        "## Styling\n",
        "\n"
      ]
    },
    {
      "cell_type": "code",
      "execution_count": 21,
      "metadata": {
        "colab": {
          "base_uri": "https://localhost:8080/",
          "height": 363
        },
        "id": "v8KRgM_QOrX9",
        "outputId": "156c082c-d453-431c-9283-63bfbe8c3d46"
      },
      "outputs": [
        {
          "data": {
            "text/html": [
              "<style type=\"text/css\">\n",
              "#T_b68b2_row0_col1 {\n",
              "  background-color: #fff5f0;\n",
              "  color: #000000;\n",
              "}\n",
              "#T_b68b2_row1_col1 {\n",
              "  background-color: #fcb89e;\n",
              "  color: #000000;\n",
              "}\n",
              "#T_b68b2_row2_col1 {\n",
              "  background-color: #f75c41;\n",
              "  color: #f1f1f1;\n",
              "}\n",
              "#T_b68b2_row3_col1 {\n",
              "  background-color: #ee3a2c;\n",
              "  color: #f1f1f1;\n",
              "}\n",
              "#T_b68b2_row4_col1 {\n",
              "  background-color: #e63328;\n",
              "  color: #f1f1f1;\n",
              "}\n",
              "#T_b68b2_row5_col1 {\n",
              "  background-color: #be151a;\n",
              "  color: #f1f1f1;\n",
              "}\n",
              "#T_b68b2_row6_col1 {\n",
              "  background-color: #b81419;\n",
              "  color: #f1f1f1;\n",
              "}\n",
              "#T_b68b2_row7_col1 {\n",
              "  background-color: #940b13;\n",
              "  color: #f1f1f1;\n",
              "}\n",
              "#T_b68b2_row8_col1 {\n",
              "  background-color: #6b010e;\n",
              "  color: #f1f1f1;\n",
              "}\n",
              "#T_b68b2_row9_col1 {\n",
              "  background-color: #67000d;\n",
              "  color: #f1f1f1;\n",
              "}\n",
              "</style>\n",
              "<table id=\"T_b68b2\">\n",
              "  <thead>\n",
              "    <tr>\n",
              "      <th class=\"blank level0\" >&nbsp;</th>\n",
              "      <th id=\"T_b68b2_level0_col0\" class=\"col_heading level0 col0\" >Gender</th>\n",
              "      <th id=\"T_b68b2_level0_col1\" class=\"col_heading level0 col1\" >Height</th>\n",
              "    </tr>\n",
              "  </thead>\n",
              "  <tbody>\n",
              "    <tr>\n",
              "      <th id=\"T_b68b2_level0_row0\" class=\"row_heading level0 row0\" >0</th>\n",
              "      <td id=\"T_b68b2_row0_col0\" class=\"data row0 col0\" >Male</td>\n",
              "      <td id=\"T_b68b2_row0_col1\" class=\"data row0 col1\" >66.145868</td>\n",
              "    </tr>\n",
              "    <tr>\n",
              "      <th id=\"T_b68b2_level0_row1\" class=\"row_heading level0 row1\" >1</th>\n",
              "      <td id=\"T_b68b2_row1_col0\" class=\"data row1 col0\" >Male</td>\n",
              "      <td id=\"T_b68b2_row1_col1\" class=\"data row1 col1\" >66.596197</td>\n",
              "    </tr>\n",
              "    <tr>\n",
              "      <th id=\"T_b68b2_level0_row2\" class=\"row_heading level0 row2\" >2</th>\n",
              "      <td id=\"T_b68b2_row2_col0\" class=\"data row2 col0\" >Male</td>\n",
              "      <td id=\"T_b68b2_row2_col1\" class=\"data row2 col1\" >67.075852</td>\n",
              "    </tr>\n",
              "    <tr>\n",
              "      <th id=\"T_b68b2_level0_row3\" class=\"row_heading level0 row3\" >3</th>\n",
              "      <td id=\"T_b68b2_row3_col0\" class=\"data row3 col0\" >Male</td>\n",
              "      <td id=\"T_b68b2_row3_col1\" class=\"data row3 col1\" >67.233931</td>\n",
              "    </tr>\n",
              "    <tr>\n",
              "      <th id=\"T_b68b2_level0_row4\" class=\"row_heading level0 row4\" >4</th>\n",
              "      <td id=\"T_b68b2_row4_col0\" class=\"data row4 col0\" >Male</td>\n",
              "      <td id=\"T_b68b2_row4_col1\" class=\"data row4 col1\" >67.283507</td>\n",
              "    </tr>\n",
              "    <tr>\n",
              "      <th id=\"T_b68b2_level0_row5\" class=\"row_heading level0 row5\" >5</th>\n",
              "      <td id=\"T_b68b2_row5_col0\" class=\"data row5 col0\" >Male</td>\n",
              "      <td id=\"T_b68b2_row5_col1\" class=\"data row5 col1\" >67.519372</td>\n",
              "    </tr>\n",
              "    <tr>\n",
              "      <th id=\"T_b68b2_level0_row6\" class=\"row_heading level0 row6\" >6</th>\n",
              "      <td id=\"T_b68b2_row6_col0\" class=\"data row6 col0\" >Male</td>\n",
              "      <td id=\"T_b68b2_row6_col1\" class=\"data row6 col1\" >67.556183</td>\n",
              "    </tr>\n",
              "    <tr>\n",
              "      <th id=\"T_b68b2_level0_row7\" class=\"row_heading level0 row7\" >7</th>\n",
              "      <td id=\"T_b68b2_row7_col0\" class=\"data row7 col0\" >Male</td>\n",
              "      <td id=\"T_b68b2_row7_col1\" class=\"data row7 col1\" >67.725619</td>\n",
              "    </tr>\n",
              "    <tr>\n",
              "      <th id=\"T_b68b2_level0_row8\" class=\"row_heading level0 row8\" >8</th>\n",
              "      <td id=\"T_b68b2_row8_col0\" class=\"data row8 col0\" >Male</td>\n",
              "      <td id=\"T_b68b2_row8_col1\" class=\"data row8 col1\" >67.864747</td>\n",
              "    </tr>\n",
              "    <tr>\n",
              "      <th id=\"T_b68b2_level0_row9\" class=\"row_heading level0 row9\" >9</th>\n",
              "      <td id=\"T_b68b2_row9_col0\" class=\"data row9 col0\" >Male</td>\n",
              "      <td id=\"T_b68b2_row9_col1\" class=\"data row9 col1\" >67.881889</td>\n",
              "    </tr>\n",
              "  </tbody>\n",
              "</table>\n"
            ],
            "text/plain": [
              "<pandas.io.formats.style.Styler at 0x7fb30b36adf0>"
            ]
          },
          "execution_count": 21,
          "metadata": {},
          "output_type": "execute_result"
        }
      ],
      "source": [
        "df.sort_values('Height').head (10) [ [ 'Gender', 'Height']] \\\n",
        "  .reset_index(drop=True) \\\n",
        "  .style \\\n",
        "  .background_gradient (cmap=\"Reds\")"
      ]
    },
    {
      "cell_type": "code",
      "execution_count": 22,
      "metadata": {
        "colab": {
          "base_uri": "https://localhost:8080/",
          "height": 244
        },
        "id": "m0vrHw35O7ZM",
        "outputId": "1a729534-be54-4bb9-f444-dd8726dc9313"
      },
      "outputs": [
        {
          "data": {
            "text/html": [
              "<style type=\"text/css\">\n",
              "#T_7069a_row0_col0 {\n",
              "  width: 120px;\n",
              "  border-right: 1px solid black;\n",
              "  background: linear-gradient(90deg, transparent 17.9%, #9898ff 17.9%, #9898ff 30.0%, transparent 30.0%) no-repeat center;\n",
              "  background-size: 100% 50.0%;\n",
              "  color: #9898ff;\n",
              "}\n",
              "#T_7069a_row0_col1 {\n",
              "  width: 120px;\n",
              "  border-right: 1px solid black;\n",
              "  background: linear-gradient(90deg, transparent 30.0%, #ffaaaa 30.0%, #ffaaaa 40.0%, transparent 40.0%) no-repeat center;\n",
              "  background-size: 100% 50.0%;\n",
              "  color: #ffaaaa;\n",
              "}\n",
              "#T_7069a_row0_col2 {\n",
              "  width: 120px;\n",
              "  border-right: 1px solid black;\n",
              "  background: linear-gradient(90deg, transparent 30.0%, #ffdada 30.0%, #ffdada 34.5%, transparent 34.5%) no-repeat center;\n",
              "  background-size: 100% 50.0%;\n",
              "  color: #ffdada;\n",
              "}\n",
              "#T_7069a_row0_col3 {\n",
              "  width: 120px;\n",
              "  border-right: 1px solid black;\n",
              "  background: linear-gradient(90deg, transparent 30.0%, #ffa6a6 30.0%, #ffa6a6 40.5%, transparent 40.5%) no-repeat center;\n",
              "  background-size: 100% 50.0%;\n",
              "  color: #ffa6a6;\n",
              "}\n",
              "#T_7069a_row1_col0 {\n",
              "  width: 120px;\n",
              "  border-right: 1px solid black;\n",
              "  background: linear-gradient(90deg, transparent 24.8%, #d2d2ff 24.8%, #d2d2ff 30.0%, transparent 30.0%) no-repeat center;\n",
              "  background-size: 100% 50.0%;\n",
              "  color: #d2d2ff;\n",
              "}\n",
              "#T_7069a_row1_col1 {\n",
              "  width: 120px;\n",
              "  border-right: 1px solid black;\n",
              "  background: linear-gradient(90deg, transparent 24.5%, #d0d0ff 24.5%, #d0d0ff 30.0%, transparent 30.0%) no-repeat center;\n",
              "  background-size: 100% 50.0%;\n",
              "  color: #d0d0ff;\n",
              "}\n",
              "#T_7069a_row1_col2 {\n",
              "  width: 120px;\n",
              "  border-right: 1px solid black;\n",
              "  background: linear-gradient(90deg, transparent 30.0%, #fff0f0 30.0%, #fff0f0 31.8%, transparent 31.8%) no-repeat center;\n",
              "  background-size: 100% 50.0%;\n",
              "  color: #fff0f0;\n",
              "}\n",
              "#T_7069a_row1_col3 {\n",
              "  width: 120px;\n",
              "  border-right: 1px solid black;\n",
              "  background: linear-gradient(90deg, transparent 30.0%, #ffa8a8 30.0%, #ffa8a8 40.3%, transparent 40.3%) no-repeat center;\n",
              "  background-size: 100% 50.0%;\n",
              "  color: #ffa8a8;\n",
              "}\n",
              "#T_7069a_row2_col0 {\n",
              "  width: 120px;\n",
              "  border-right: 1px solid black;\n",
              "  background: linear-gradient(90deg, transparent 18.5%, #9c9cff 18.5%, #9c9cff 30.0%, transparent 30.0%) no-repeat center;\n",
              "  background-size: 100% 50.0%;\n",
              "  color: #9c9cff;\n",
              "}\n",
              "#T_7069a_row2_col1 {\n",
              "  width: 120px;\n",
              "  border-right: 1px solid black;\n",
              "  background: linear-gradient(90deg, transparent 30.0%, #ffc8c8 30.0%, #ffc8c8 36.5%, transparent 36.5%) no-repeat center;\n",
              "  background-size: 100% 50.0%;\n",
              "  color: #ffc8c8;\n",
              "}\n",
              "#T_7069a_row2_col2 {\n",
              "  width: 120px;\n",
              "  border-right: 1px solid black;\n",
              "  background: linear-gradient(90deg, transparent 26.7%, #e2e2ff 26.7%, #e2e2ff 30.0%, transparent 30.0%) no-repeat center;\n",
              "  background-size: 100% 50.0%;\n",
              "  color: #e2e2ff;\n",
              "}\n",
              "#T_7069a_row2_col3 {\n",
              "  width: 120px;\n",
              "  border-right: 1px solid black;\n",
              "  background: linear-gradient(90deg, transparent 7.7%, #4040ff 7.7%, #4040ff 30.0%, transparent 30.0%) no-repeat center;\n",
              "  background-size: 100% 50.0%;\n",
              "  color: #4040ff;\n",
              "}\n",
              "#T_7069a_row3_col0 {\n",
              "  width: 120px;\n",
              "  border-right: 1px solid black;\n",
              "  background: linear-gradient(90deg, transparent 29.8%, #fefeff 29.8%, #fefeff 30.0%, transparent 30.0%) no-repeat center;\n",
              "  background-size: 100% 50.0%;\n",
              "  color: #fefeff;\n",
              "}\n",
              "#T_7069a_row3_col1 {\n",
              "  width: 120px;\n",
              "  border-right: 1px solid black;\n",
              "  background: linear-gradient(90deg, transparent 30.0%, #ffe8e8 30.0%, #ffe8e8 32.6%, transparent 32.6%) no-repeat center;\n",
              "  background-size: 100% 50.0%;\n",
              "  color: #ffe8e8;\n",
              "}\n",
              "#T_7069a_row3_col2 {\n",
              "  width: 120px;\n",
              "  border-right: 1px solid black;\n",
              "  background: linear-gradient(90deg, transparent 27.9%, #eeeeff 27.9%, #eeeeff 30.0%, transparent 30.0%) no-repeat center;\n",
              "  background-size: 100% 50.0%;\n",
              "  color: #eeeeff;\n",
              "}\n",
              "#T_7069a_row3_col3 {\n",
              "  width: 120px;\n",
              "  border-right: 1px solid black;\n",
              "  background: linear-gradient(90deg, transparent 29.1%, #f8f8ff 29.1%, #f8f8ff 30.0%, transparent 30.0%) no-repeat center;\n",
              "  background-size: 100% 50.0%;\n",
              "  color: #f8f8ff;\n",
              "}\n",
              "#T_7069a_row4_col0 {\n",
              "  width: 120px;\n",
              "  border-right: 1px solid black;\n",
              "  background: linear-gradient(90deg, transparent 18.6%, #9e9eff 18.6%, #9e9eff 30.0%, transparent 30.0%) no-repeat center;\n",
              "  background-size: 100% 50.0%;\n",
              "  color: #9e9eff;\n",
              "}\n",
              "#T_7069a_row4_col1 {\n",
              "  width: 120px;\n",
              "  border-right: 1px solid black;\n",
              "  background: linear-gradient(90deg, transparent 30.0%, #ff7e7e 30.0%, #ff7e7e 45.1%, transparent 45.1%) no-repeat center;\n",
              "  background-size: 100% 50.0%;\n",
              "  color: #ff7e7e;\n",
              "}\n",
              "#T_7069a_row4_col2 {\n",
              "  width: 120px;\n",
              "  border-right: 1px solid black;\n",
              "  background: linear-gradient(90deg, transparent 30.0%, #ffeeee 30.0%, #ffeeee 32.0%, transparent 32.0%) no-repeat center;\n",
              "  background-size: 100% 50.0%;\n",
              "  color: #ffeeee;\n",
              "}\n",
              "#T_7069a_row4_col3 {\n",
              "  width: 120px;\n",
              "  border-right: 1px solid black;\n",
              "  background: linear-gradient(90deg, transparent 28.1%, #eeeeff 28.1%, #eeeeff 30.0%, transparent 30.0%) no-repeat center;\n",
              "  background-size: 100% 50.0%;\n",
              "  color: #eeeeff;\n",
              "}\n",
              "#T_7069a_row5_col0 {\n",
              "  width: 120px;\n",
              "  border-right: 1px solid black;\n",
              "  background: linear-gradient(90deg, transparent 30.0%, #ff9090 30.0%, #ff9090 43.1%, transparent 43.1%) no-repeat center;\n",
              "  background-size: 100% 50.0%;\n",
              "  color: #ff9090;\n",
              "}\n",
              "#T_7069a_row5_col1 {\n",
              "  width: 120px;\n",
              "  border-right: 1px solid black;\n",
              "  background: linear-gradient(90deg, transparent 30.0%, #fff8f8 30.0%, #fff8f8 30.7%, transparent 30.7%) no-repeat center;\n",
              "  background-size: 100% 50.0%;\n",
              "  color: #fff8f8;\n",
              "}\n",
              "#T_7069a_row5_col2 {\n",
              "  width: 120px;\n",
              "  border-right: 1px solid black;\n",
              "  background: linear-gradient(90deg, transparent 30.0%, #ffd6d6 30.0%, #ffd6d6 34.7%, transparent 34.7%) no-repeat center;\n",
              "  background-size: 100% 50.0%;\n",
              "  color: #ffd6d6;\n",
              "}\n",
              "#T_7069a_row5_col3, #T_7069a_row8_col3 {\n",
              "  width: 120px;\n",
              "  border-right: 1px solid black;\n",
              "  background: linear-gradient(90deg, transparent 21.2%, #b4b4ff 21.2%, #b4b4ff 30.0%, transparent 30.0%) no-repeat center;\n",
              "  background-size: 100% 50.0%;\n",
              "  color: #b4b4ff;\n",
              "}\n",
              "#T_7069a_row6_col0 {\n",
              "  width: 120px;\n",
              "  border-right: 1px solid black;\n",
              "  background: linear-gradient(90deg, transparent 30.0%, #ffacac 30.0%, #ffacac 39.8%, transparent 39.8%) no-repeat center;\n",
              "  background-size: 100% 50.0%;\n",
              "  color: #ffacac;\n",
              "}\n",
              "#T_7069a_row6_col1 {\n",
              "  width: 120px;\n",
              "  border-right: 1px solid black;\n",
              "  background: linear-gradient(90deg, transparent 20.4%, #aeaeff 20.4%, #aeaeff 30.0%, transparent 30.0%) no-repeat center;\n",
              "  background-size: 100% 50.0%;\n",
              "  color: #aeaeff;\n",
              "}\n",
              "#T_7069a_row6_col2 {\n",
              "  width: 120px;\n",
              "  border-right: 1px solid black;\n",
              "  background: linear-gradient(90deg, transparent 30.0%, #ff7878 30.0%, #ff7878 45.8%, transparent 45.8%) no-repeat center;\n",
              "  background-size: 100% 50.0%;\n",
              "  color: #ff7878;\n",
              "}\n",
              "#T_7069a_row6_col3, #T_7069a_row9_col0 {\n",
              "  width: 120px;\n",
              "  border-right: 1px solid black;\n",
              "  background: linear-gradient(90deg, transparent 28.2%, #f0f0ff 28.2%, #f0f0ff 30.0%, transparent 30.0%) no-repeat center;\n",
              "  background-size: 100% 50.0%;\n",
              "  color: #f0f0ff;\n",
              "}\n",
              "#T_7069a_row7_col0 {\n",
              "  width: 120px;\n",
              "  border-right: 1px solid black;\n",
              "  background: linear-gradient(90deg, transparent 30.0%, #ff5858 30.0%, #ff5858 49.6%, transparent 49.6%) no-repeat center;\n",
              "  background-size: 100% 50.0%;\n",
              "  color: #ff5858;\n",
              "}\n",
              "#T_7069a_row7_col1 {\n",
              "  width: 120px;\n",
              "  border-right: 1px solid black;\n",
              "  background: linear-gradient(90deg, transparent 30.0%, #ff7676 30.0%, #ff7676 46.0%, transparent 46.0%) no-repeat center;\n",
              "  background-size: 100% 50.0%;\n",
              "  color: #ff7676;\n",
              "}\n",
              "#T_7069a_row7_col2 {\n",
              "  width: 120px;\n",
              "  border-right: 1px solid black;\n",
              "  background: linear-gradient(90deg, transparent 30.0%, #ffbebe 30.0%, #ffbebe 37.7%, transparent 37.7%) no-repeat center;\n",
              "  background-size: 100% 50.0%;\n",
              "  color: #ffbebe;\n",
              "}\n",
              "#T_7069a_row7_col3 {\n",
              "  width: 120px;\n",
              "  border-right: 1px solid black;\n",
              "  background: linear-gradient(90deg, transparent 30.0%, #ff5454 30.0%, #ff5454 50.0%, transparent 50.0%) no-repeat center;\n",
              "  background-size: 100% 50.0%;\n",
              "  color: #ff5454;\n",
              "}\n",
              "#T_7069a_row8_col0 {\n",
              "  width: 120px;\n",
              "  border-right: 1px solid black;\n",
              "  background: linear-gradient(90deg, transparent 20.7%, #b0b0ff 20.7%, #b0b0ff 30.0%, transparent 30.0%) no-repeat center;\n",
              "  background-size: 100% 50.0%;\n",
              "  color: #b0b0ff;\n",
              "}\n",
              "#T_7069a_row8_col1 {\n",
              "  width: 120px;\n",
              "  border-right: 1px solid black;\n",
              "  background: linear-gradient(90deg, transparent 11.4%, #6060ff 11.4%, #6060ff 30.0%, transparent 30.0%) no-repeat center;\n",
              "  background-size: 100% 50.0%;\n",
              "  color: #6060ff;\n",
              "}\n",
              "#T_7069a_row8_col2 {\n",
              "  width: 120px;\n",
              "  border-right: 1px solid black;\n",
              "  background: linear-gradient(90deg, transparent 30.0%, #ff8686 30.0%, #ff8686 44.1%, transparent 44.1%) no-repeat center;\n",
              "  background-size: 100% 50.0%;\n",
              "  color: #ff8686;\n",
              "}\n",
              "#T_7069a_row9_col1 {\n",
              "  width: 120px;\n",
              "  border-right: 1px solid black;\n",
              "  background: linear-gradient(90deg, transparent 16.1%, #8888ff 16.1%, #8888ff 30.0%, transparent 30.0%) no-repeat center;\n",
              "  background-size: 100% 50.0%;\n",
              "  color: #8888ff;\n",
              "}\n",
              "#T_7069a_row9_col2 {\n",
              "  width: 120px;\n",
              "  border-right: 1px solid black;\n",
              "  background: linear-gradient(90deg, transparent 17.1%, #9292ff 17.1%, #9292ff 30.0%, transparent 30.0%) no-repeat center;\n",
              "  background-size: 100% 50.0%;\n",
              "  color: #9292ff;\n",
              "}\n",
              "#T_7069a_row9_col3 {\n",
              "  width: 120px;\n",
              "  border-right: 1px solid black;\n",
              "  background: linear-gradient(90deg, transparent 5.9%, #3232ff 5.9%, #3232ff 30.0%, transparent 30.0%) no-repeat center;\n",
              "  background-size: 100% 50.0%;\n",
              "  color: #3232ff;\n",
              "}\n",
              "</style>\n",
              "<table id=\"T_7069a\">\n",
              "  <thead>\n",
              "    <tr>\n",
              "      <th class=\"blank level0\" >&nbsp;</th>\n",
              "      <th id=\"T_7069a_level0_col0\" class=\"col_heading level0 col0\" >A</th>\n",
              "      <th id=\"T_7069a_level0_col1\" class=\"col_heading level0 col1\" >B</th>\n",
              "      <th id=\"T_7069a_level0_col2\" class=\"col_heading level0 col2\" >C</th>\n",
              "      <th id=\"T_7069a_level0_col3\" class=\"col_heading level0 col3\" >D</th>\n",
              "    </tr>\n",
              "  </thead>\n",
              "  <tbody>\n",
              "    <tr>\n",
              "      <th id=\"T_7069a_level0_row0\" class=\"row_heading level0 row0\" >0</th>\n",
              "      <td id=\"T_7069a_row0_col0\" class=\"data row0 col0\" >-1.011</td>\n",
              "      <td id=\"T_7069a_row0_col1\" class=\"data row0 col1\" >0.830</td>\n",
              "      <td id=\"T_7069a_row0_col2\" class=\"data row0 col2\" >0.371</td>\n",
              "      <td id=\"T_7069a_row0_col3\" class=\"data row0 col3\" >0.878</td>\n",
              "    </tr>\n",
              "    <tr>\n",
              "      <th id=\"T_7069a_level0_row1\" class=\"row_heading level0 row1\" >1</th>\n",
              "      <td id=\"T_7069a_row1_col0\" class=\"data row1 col0\" >-0.430</td>\n",
              "      <td id=\"T_7069a_row1_col1\" class=\"data row1 col1\" >-0.459</td>\n",
              "      <td id=\"T_7069a_row1_col2\" class=\"data row1 col2\" >0.153</td>\n",
              "      <td id=\"T_7069a_row1_col3\" class=\"data row1 col3\" >0.857</td>\n",
              "    </tr>\n",
              "    <tr>\n",
              "      <th id=\"T_7069a_level0_row2\" class=\"row_heading level0 row2\" >2</th>\n",
              "      <td id=\"T_7069a_row2_col0\" class=\"data row2 col0\" >-0.961</td>\n",
              "      <td id=\"T_7069a_row2_col1\" class=\"data row2 col1\" >0.544</td>\n",
              "      <td id=\"T_7069a_row2_col2\" class=\"data row2 col2\" >-0.274</td>\n",
              "      <td id=\"T_7069a_row2_col3\" class=\"data row2 col3\" >-1.856</td>\n",
              "    </tr>\n",
              "    <tr>\n",
              "      <th id=\"T_7069a_level0_row3\" class=\"row_heading level0 row3\" >3</th>\n",
              "      <td id=\"T_7069a_row3_col0\" class=\"data row3 col0\" >-0.019</td>\n",
              "      <td id=\"T_7069a_row3_col1\" class=\"data row3 col1\" >0.216</td>\n",
              "      <td id=\"T_7069a_row3_col2\" class=\"data row3 col2\" >-0.173</td>\n",
              "      <td id=\"T_7069a_row3_col3\" class=\"data row3 col3\" >-0.073</td>\n",
              "    </tr>\n",
              "    <tr>\n",
              "      <th id=\"T_7069a_level0_row4\" class=\"row_heading level0 row4\" >4</th>\n",
              "      <td id=\"T_7069a_row4_col0\" class=\"data row4 col0\" >-0.950</td>\n",
              "      <td id=\"T_7069a_row4_col1\" class=\"data row4 col1\" >1.261</td>\n",
              "      <td id=\"T_7069a_row4_col2\" class=\"data row4 col2\" >0.171</td>\n",
              "      <td id=\"T_7069a_row4_col3\" class=\"data row4 col3\" >-0.158</td>\n",
              "    </tr>\n",
              "    <tr>\n",
              "      <th id=\"T_7069a_level0_row5\" class=\"row_heading level0 row5\" >5</th>\n",
              "      <td id=\"T_7069a_row5_col0\" class=\"data row5 col0\" >1.090</td>\n",
              "      <td id=\"T_7069a_row5_col1\" class=\"data row5 col1\" >0.060</td>\n",
              "      <td id=\"T_7069a_row5_col2\" class=\"data row5 col2\" >0.391</td>\n",
              "      <td id=\"T_7069a_row5_col3\" class=\"data row5 col3\" >-0.730</td>\n",
              "    </tr>\n",
              "    <tr>\n",
              "      <th id=\"T_7069a_level0_row6\" class=\"row_heading level0 row6\" >6</th>\n",
              "      <td id=\"T_7069a_row6_col0\" class=\"data row6 col0\" >0.820</td>\n",
              "      <td id=\"T_7069a_row6_col1\" class=\"data row6 col1\" >-0.796</td>\n",
              "      <td id=\"T_7069a_row6_col2\" class=\"data row6 col2\" >1.320</td>\n",
              "      <td id=\"T_7069a_row6_col3\" class=\"data row6 col3\" >-0.149</td>\n",
              "    </tr>\n",
              "    <tr>\n",
              "      <th id=\"T_7069a_level0_row7\" class=\"row_heading level0 row7\" >7</th>\n",
              "      <td id=\"T_7069a_row7_col0\" class=\"data row7 col0\" >1.636</td>\n",
              "      <td id=\"T_7069a_row7_col1\" class=\"data row7 col1\" >1.332</td>\n",
              "      <td id=\"T_7069a_row7_col2\" class=\"data row7 col2\" >0.642</td>\n",
              "      <td id=\"T_7069a_row7_col3\" class=\"data row7 col3\" >1.668</td>\n",
              "    </tr>\n",
              "    <tr>\n",
              "      <th id=\"T_7069a_level0_row8\" class=\"row_heading level0 row8\" >8</th>\n",
              "      <td id=\"T_7069a_row8_col0\" class=\"data row8 col0\" >-0.773</td>\n",
              "      <td id=\"T_7069a_row8_col1\" class=\"data row8 col1\" >-1.548</td>\n",
              "      <td id=\"T_7069a_row8_col2\" class=\"data row8 col2\" >1.177</td>\n",
              "      <td id=\"T_7069a_row8_col3\" class=\"data row8 col3\" >-0.737</td>\n",
              "    </tr>\n",
              "    <tr>\n",
              "      <th id=\"T_7069a_level0_row9\" class=\"row_heading level0 row9\" >9</th>\n",
              "      <td id=\"T_7069a_row9_col0\" class=\"data row9 col0\" >-0.152</td>\n",
              "      <td id=\"T_7069a_row9_col1\" class=\"data row9 col1\" >-1.156</td>\n",
              "      <td id=\"T_7069a_row9_col2\" class=\"data row9 col2\" >-1.073</td>\n",
              "      <td id=\"T_7069a_row9_col3\" class=\"data row9 col3\" >-2.004</td>\n",
              "    </tr>\n",
              "  </tbody>\n",
              "</table>\n"
            ],
            "text/plain": [
              "<pandas.io.formats.style.Styler at 0x7fb30a8f64c0>"
            ]
          },
          "execution_count": 22,
          "metadata": {},
          "output_type": "execute_result"
        }
      ],
      "source": [
        "df2 = pd.DataFrame (np. random. randn (10,4), columns=['A', 'B', 'C','D'])\n",
        "df2.style.format('{:.3f}', na_rep=\"\")\\\n",
        "  .bar(align=0, vmin=-2.5, vmax=2.5, cmap=\"bwr\", height=50, width=60, props=\"width: 120px; border-right: 1px solid black;\")\\\n",
        "  .text_gradient(cmap=\"bwr\", vmin=-2.5, vmax=2.5)"
      ]
    },
    {
      "cell_type": "markdown",
      "metadata": {
        "id": "ZybUvzrlP5rZ"
      },
      "source": [
        "**categorical data types**\n",
        "\n",
        "Take less space in memory and can make faster operations in large datasets \n",
        "\n",
        "It's better to store men and women as **categorical data** instead of as a string object as below."
      ]
    },
    {
      "cell_type": "code",
      "execution_count": 23,
      "metadata": {
        "colab": {
          "base_uri": "https://localhost:8080/"
        },
        "id": "3VXSja32QK4n",
        "outputId": "bd6f1e34-c7d6-4ec9-8349-92c4ddc01ecc"
      },
      "outputs": [
        {
          "data": {
            "text/plain": [
              "0      Male\n",
              "1      Male\n",
              "2      Male\n",
              "3      Male\n",
              "4      Male\n",
              "       ... \n",
              "168    Male\n",
              "169    Male\n",
              "170    Male\n",
              "171    Male\n",
              "172    Male\n",
              "Name: Gender, Length: 173, dtype: object"
            ]
          },
          "execution_count": 23,
          "metadata": {},
          "output_type": "execute_result"
        }
      ],
      "source": [
        "df['Gender']"
      ]
    },
    {
      "cell_type": "code",
      "execution_count": 24,
      "metadata": {
        "colab": {
          "base_uri": "https://localhost:8080/"
        },
        "id": "Xdj5V6KOQROz",
        "outputId": "04b70377-5a7c-4d5b-8e2b-806c5ed7999f"
      },
      "outputs": [
        {
          "name": "stdout",
          "output_type": "stream",
          "text": [
            "<class 'pandas.core.frame.DataFrame'>\n",
            "RangeIndex: 173 entries, 0 to 172\n",
            "Data columns (total 7 columns):\n",
            " #   Column           Non-Null Count  Dtype   \n",
            "---  ------           --------------  -----   \n",
            " 0   index            173 non-null    int64   \n",
            " 1   Gender           173 non-null    category\n",
            " 2   Height           173 non-null    float64 \n",
            " 3   Weight           173 non-null    float64 \n",
            " 4   greater_than_70  173 non-null    bool    \n",
            " 5   height_square    173 non-null    float64 \n",
            " 6   Gender_Upper     173 non-null    object  \n",
            "dtypes: bool(1), category(1), float64(3), int64(1), object(1)\n",
            "memory usage: 7.3+ KB\n"
          ]
        }
      ],
      "source": [
        "df['Gender'] = df['Gender'].astype('category')\n",
        "df.info()"
      ]
    },
    {
      "cell_type": "markdown",
      "metadata": {
        "id": "D7fFux7wQm80"
      },
      "source": [
        "**Check for duplicated columns and remove them**"
      ]
    },
    {
      "cell_type": "code",
      "execution_count": 90,
      "metadata": {
        "colab": {
          "base_uri": "https://localhost:8080/"
        },
        "id": "3T2GNRjiQs0D",
        "outputId": "d546574b-6173-42ba-8a44-7cc259bf7aa5"
      },
      "outputs": [
        {
          "data": {
            "text/plain": [
              "0      69.881796\n",
              "1      69.180161\n",
              "2      69.577202\n",
              "3      66.596197\n",
              "4      68.190684\n",
              "         ...    \n",
              "168    69.153102\n",
              "169    69.859331\n",
              "170    69.469447\n",
              "171    69.599795\n",
              "172    69.969886\n",
              "Name: Height, Length: 173, dtype: float64"
            ]
          },
          "execution_count": 90,
          "metadata": {},
          "output_type": "execute_result"
        }
      ],
      "source": [
        "df_double = pd.concat([df, df], axis=1)\n",
        "df_double = df_double.loc[:,~df_double.columns.duplicated()]. copy()\n",
        "df_double ['Height']"
      ]
    },
    {
      "attachments": {},
      "cell_type": "markdown",
      "metadata": {},
      "source": [
        "## Fitter"
      ]
    },
    {
      "cell_type": "code",
      "execution_count": 31,
      "metadata": {},
      "outputs": [
        {
          "name": "stdout",
          "output_type": "stream",
          "text": [
            "Requirement already satisfied: fitter in /home/adriana/anaconda3/lib/python3.9/site-packages (1.5.2)\n",
            "Requirement already satisfied: tqdm in /home/adriana/anaconda3/lib/python3.9/site-packages (from fitter) (4.64.1)\n",
            "Requirement already satisfied: pandas in /home/adriana/anaconda3/lib/python3.9/site-packages (from fitter) (1.4.4)\n",
            "Requirement already satisfied: scipy>=0.18 in /home/adriana/anaconda3/lib/python3.9/site-packages (from fitter) (1.9.1)\n",
            "Requirement already satisfied: joblib in /home/adriana/anaconda3/lib/python3.9/site-packages (from fitter) (1.1.0)\n",
            "Requirement already satisfied: click in /home/adriana/anaconda3/lib/python3.9/site-packages (from fitter) (8.0.4)\n",
            "Requirement already satisfied: matplotlib in /home/adriana/anaconda3/lib/python3.9/site-packages (from fitter) (3.5.2)\n",
            "Requirement already satisfied: numpy in /home/adriana/anaconda3/lib/python3.9/site-packages (from fitter) (1.21.5)\n",
            "Requirement already satisfied: packaging>=20.0 in /home/adriana/anaconda3/lib/python3.9/site-packages (from matplotlib->fitter) (21.3)\n",
            "Requirement already satisfied: pyparsing>=2.2.1 in /home/adriana/anaconda3/lib/python3.9/site-packages (from matplotlib->fitter) (3.0.9)\n",
            "Requirement already satisfied: kiwisolver>=1.0.1 in /home/adriana/anaconda3/lib/python3.9/site-packages (from matplotlib->fitter) (1.4.2)\n",
            "Requirement already satisfied: pillow>=6.2.0 in /home/adriana/anaconda3/lib/python3.9/site-packages (from matplotlib->fitter) (9.2.0)\n",
            "Requirement already satisfied: cycler>=0.10 in /home/adriana/anaconda3/lib/python3.9/site-packages (from matplotlib->fitter) (0.11.0)\n",
            "Requirement already satisfied: python-dateutil>=2.7 in /home/adriana/anaconda3/lib/python3.9/site-packages (from matplotlib->fitter) (2.8.2)\n",
            "Requirement already satisfied: fonttools>=4.22.0 in /home/adriana/anaconda3/lib/python3.9/site-packages (from matplotlib->fitter) (4.25.0)\n",
            "Requirement already satisfied: pytz>=2020.1 in /home/adriana/anaconda3/lib/python3.9/site-packages (from pandas->fitter) (2022.1)\n",
            "Requirement already satisfied: six>=1.5 in /home/adriana/anaconda3/lib/python3.9/site-packages (from python-dateutil>=2.7->matplotlib->fitter) (1.16.0)\n",
            "Note: you may need to restart the kernel to use updated packages.\n"
          ]
        }
      ],
      "source": [
        "pip install fitter"
      ]
    },
    {
      "cell_type": "code",
      "execution_count": 32,
      "metadata": {},
      "outputs": [],
      "source": [
        "\n",
        "from fitter import Fitter, get_common_distributions, get_distributions"
      ]
    },
    {
      "cell_type": "code",
      "execution_count": 42,
      "metadata": {},
      "outputs": [],
      "source": [
        "df = pd.read_csv(filepath_or_buffer=\"datasets/weight-height.csv\", sep=',', skiprows=0)"
      ]
    },
    {
      "cell_type": "code",
      "execution_count": 43,
      "metadata": {},
      "outputs": [
        {
          "name": "stderr",
          "output_type": "stream",
          "text": [
            "Fitting 5 distributions: 100%|██████████| 5/5 [00:00<00:00, 14.00it/s]\n"
          ]
        },
        {
          "data": {
            "text/html": [
              "<div>\n",
              "<style scoped>\n",
              "    .dataframe tbody tr th:only-of-type {\n",
              "        vertical-align: middle;\n",
              "    }\n",
              "\n",
              "    .dataframe tbody tr th {\n",
              "        vertical-align: top;\n",
              "    }\n",
              "\n",
              "    .dataframe thead th {\n",
              "        text-align: right;\n",
              "    }\n",
              "</style>\n",
              "<table border=\"1\" class=\"dataframe\">\n",
              "  <thead>\n",
              "    <tr style=\"text-align: right;\">\n",
              "      <th></th>\n",
              "      <th>sumsquare_error</th>\n",
              "      <th>aic</th>\n",
              "      <th>bic</th>\n",
              "      <th>kl_div</th>\n",
              "      <th>ks_statistic</th>\n",
              "      <th>ks_pvalue</th>\n",
              "    </tr>\n",
              "  </thead>\n",
              "  <tbody>\n",
              "    <tr>\n",
              "      <th>beta</th>\n",
              "      <td>0.003108</td>\n",
              "      <td>848.384299</td>\n",
              "      <td>-149805.573382</td>\n",
              "      <td>inf</td>\n",
              "      <td>0.013858</td>\n",
              "      <td>4.254279e-02</td>\n",
              "    </tr>\n",
              "    <tr>\n",
              "      <th>lognorm</th>\n",
              "      <td>0.005284</td>\n",
              "      <td>803.863780</td>\n",
              "      <td>-144506.315623</td>\n",
              "      <td>inf</td>\n",
              "      <td>0.022787</td>\n",
              "      <td>6.081080e-05</td>\n",
              "    </tr>\n",
              "    <tr>\n",
              "      <th>gamma</th>\n",
              "      <td>0.005296</td>\n",
              "      <td>803.860095</td>\n",
              "      <td>-144484.269318</td>\n",
              "      <td>inf</td>\n",
              "      <td>0.023553</td>\n",
              "      <td>2.987814e-05</td>\n",
              "    </tr>\n",
              "    <tr>\n",
              "      <th>cauchy</th>\n",
              "      <td>0.035164</td>\n",
              "      <td>773.299862</td>\n",
              "      <td>-125562.369408</td>\n",
              "      <td>inf</td>\n",
              "      <td>0.086815</td>\n",
              "      <td>5.045983e-66</td>\n",
              "    </tr>\n",
              "    <tr>\n",
              "      <th>rayleigh</th>\n",
              "      <td>0.063472</td>\n",
              "      <td>inf</td>\n",
              "      <td>-119656.488043</td>\n",
              "      <td>inf</td>\n",
              "      <td>0.171452</td>\n",
              "      <td>1.715558e-257</td>\n",
              "    </tr>\n",
              "  </tbody>\n",
              "</table>\n",
              "</div>"
            ],
            "text/plain": [
              "          sumsquare_error         aic            bic  kl_div  ks_statistic  \\\n",
              "beta             0.003108  848.384299 -149805.573382     inf      0.013858   \n",
              "lognorm          0.005284  803.863780 -144506.315623     inf      0.022787   \n",
              "gamma            0.005296  803.860095 -144484.269318     inf      0.023553   \n",
              "cauchy           0.035164  773.299862 -125562.369408     inf      0.086815   \n",
              "rayleigh         0.063472         inf -119656.488043     inf      0.171452   \n",
              "\n",
              "              ks_pvalue  \n",
              "beta       4.254279e-02  \n",
              "lognorm    6.081080e-05  \n",
              "gamma      2.987814e-05  \n",
              "cauchy     5.045983e-66  \n",
              "rayleigh  1.715558e-257  "
            ]
          },
          "execution_count": 43,
          "metadata": {},
          "output_type": "execute_result"
        },
        {
          "data": {
            "image/png": "[encoded data removed]",
            "text/plain": [
              "<Figure size 640x480 with 1 Axes>"
            ]
          },
          "metadata": {},
          "output_type": "display_data"
        }
      ],
      "source": [
        "height = df[\"Height\"].values\n",
        "dist_fitter = Fitter(height,\n",
        "                   distributions = [\"cauchy\",\n",
        "                                    \"rayleigh\",\n",
        "                                    \"beta\",\n",
        "                                    \"gamma\",\n",
        "                                    \"lognorm\"])       \n",
        "dist_fitter.fit()\n",
        "dist_fitter.summary()    "
      ]
    },
    {
      "attachments": {},
      "cell_type": "markdown",
      "metadata": {},
      "source": [
        "We can see that the beta distribution is the best fit based on the sumsquare_error criteria"
      ]
    },
    {
      "cell_type": "code",
      "execution_count": 44,
      "metadata": {},
      "outputs": [
        {
          "data": {
            "text/plain": [
              "{'beta': {'a': 5.958319408062067,\n",
              "  'b': 6.498169312519742,\n",
              "  'loc': 52.87268950557022,\n",
              "  'scale': 28.213574971918785}}"
            ]
          },
          "execution_count": 44,
          "metadata": {},
          "output_type": "execute_result"
        }
      ],
      "source": [
        "dist_fitter.get_best(method = 'sumsquare_error')"
      ]
    },
    {
      "attachments": {},
      "cell_type": "markdown",
      "metadata": {},
      "source": [
        "beta **parameters**"
      ]
    },
    {
      "cell_type": "code",
      "execution_count": 36,
      "metadata": {},
      "outputs": [
        {
          "data": {
            "text/plain": [
              "(5.958319408062067, 6.498169312519742, 52.87268950557022, 28.213574971918785)"
            ]
          },
          "execution_count": 36,
          "metadata": {},
          "output_type": "execute_result"
        }
      ],
      "source": [
        "dist_fitter.fitted_param[\"beta\"]"
      ]
    },
    {
      "cell_type": "code",
      "execution_count": 37,
      "metadata": {},
      "outputs": [
        {
          "data": {
            "text/plain": [
              "['cauchy',\n",
              " 'chi2',\n",
              " 'expon',\n",
              " 'exponpow',\n",
              " 'gamma',\n",
              " 'lognorm',\n",
              " 'norm',\n",
              " 'powerlaw',\n",
              " 'rayleigh',\n",
              " 'uniform']"
            ]
          },
          "execution_count": 37,
          "metadata": {},
          "output_type": "execute_result"
        }
      ],
      "source": [
        "get_common_distributions()"
      ]
    },
    {
      "cell_type": "code",
      "execution_count": 38,
      "metadata": {},
      "outputs": [],
      "source": [
        "\n",
        "df2 = pd.read_csv(filepath_or_buffer=\"datasets/weight-height.csv\", sep=',', skiprows=0)"
      ]
    },
    {
      "cell_type": "code",
      "execution_count": 39,
      "metadata": {},
      "outputs": [
        {
          "name": "stderr",
          "output_type": "stream",
          "text": [
            "Fitting 10 distributions: 100%|██████████| 10/10 [00:00<00:00, 15.53it/s]\n"
          ]
        },
        {
          "data": {
            "text/html": [
              "<div>\n",
              "<style scoped>\n",
              "    .dataframe tbody tr th:only-of-type {\n",
              "        vertical-align: middle;\n",
              "    }\n",
              "\n",
              "    .dataframe tbody tr th {\n",
              "        vertical-align: top;\n",
              "    }\n",
              "\n",
              "    .dataframe thead th {\n",
              "        text-align: right;\n",
              "    }\n",
              "</style>\n",
              "<table border=\"1\" class=\"dataframe\">\n",
              "  <thead>\n",
              "    <tr style=\"text-align: right;\">\n",
              "      <th></th>\n",
              "      <th>sumsquare_error</th>\n",
              "      <th>aic</th>\n",
              "      <th>bic</th>\n",
              "      <th>kl_div</th>\n",
              "      <th>ks_statistic</th>\n",
              "      <th>ks_pvalue</th>\n",
              "    </tr>\n",
              "  </thead>\n",
              "  <tbody>\n",
              "    <tr>\n",
              "      <th>lognorm</th>\n",
              "      <td>0.005284</td>\n",
              "      <td>803.863780</td>\n",
              "      <td>-144506.315623</td>\n",
              "      <td>inf</td>\n",
              "      <td>0.022787</td>\n",
              "      <td>6.081080e-05</td>\n",
              "    </tr>\n",
              "    <tr>\n",
              "      <th>gamma</th>\n",
              "      <td>0.005296</td>\n",
              "      <td>803.860095</td>\n",
              "      <td>-144484.269318</td>\n",
              "      <td>inf</td>\n",
              "      <td>0.023553</td>\n",
              "      <td>2.987814e-05</td>\n",
              "    </tr>\n",
              "    <tr>\n",
              "      <th>chi2</th>\n",
              "      <td>0.005353</td>\n",
              "      <td>807.328297</td>\n",
              "      <td>-144376.113988</td>\n",
              "      <td>inf</td>\n",
              "      <td>0.026335</td>\n",
              "      <td>1.856371e-06</td>\n",
              "    </tr>\n",
              "    <tr>\n",
              "      <th>norm</th>\n",
              "      <td>0.005383</td>\n",
              "      <td>802.162043</td>\n",
              "      <td>-144330.934485</td>\n",
              "      <td>inf</td>\n",
              "      <td>0.025554</td>\n",
              "      <td>4.177451e-06</td>\n",
              "    </tr>\n",
              "    <tr>\n",
              "      <th>cauchy</th>\n",
              "      <td>0.035164</td>\n",
              "      <td>773.299862</td>\n",
              "      <td>-125562.369408</td>\n",
              "      <td>inf</td>\n",
              "      <td>0.086815</td>\n",
              "      <td>5.045983e-66</td>\n",
              "    </tr>\n",
              "  </tbody>\n",
              "</table>\n",
              "</div>"
            ],
            "text/plain": [
              "         sumsquare_error         aic            bic  kl_div  ks_statistic  \\\n",
              "lognorm         0.005284  803.863780 -144506.315623     inf      0.022787   \n",
              "gamma           0.005296  803.860095 -144484.269318     inf      0.023553   \n",
              "chi2            0.005353  807.328297 -144376.113988     inf      0.026335   \n",
              "norm            0.005383  802.162043 -144330.934485     inf      0.025554   \n",
              "cauchy          0.035164  773.299862 -125562.369408     inf      0.086815   \n",
              "\n",
              "            ks_pvalue  \n",
              "lognorm  6.081080e-05  \n",
              "gamma    2.987814e-05  \n",
              "chi2     1.856371e-06  \n",
              "norm     4.177451e-06  \n",
              "cauchy   5.045983e-66  "
            ]
          },
          "execution_count": 39,
          "metadata": {},
          "output_type": "execute_result"
        },
        {
          "data": {
            "image/png": "[encoded data removed]",
            "text/plain": [
              "<Figure size 640x480 with 1 Axes>"
            ]
          },
          "metadata": {},
          "output_type": "display_data"
        }
      ],
      "source": [
        "height = df2[\"Height\"].values\n",
        "dist_fitter = Fitter(height,\n",
        "                   distributions = get_common_distributions())       \n",
        "dist_fitter.fit()\n",
        "dist_fitter.summary()    "
      ]
    },
    {
      "cell_type": "code",
      "execution_count": 40,
      "metadata": {},
      "outputs": [
        {
          "data": {
            "text/plain": [
              "{'lognorm': {'s': 0.025604849307773056,\n",
              "  'loc': -83.8820510796117,\n",
              "  'scale': 150.20104876196217}}"
            ]
          },
          "execution_count": 40,
          "metadata": {},
          "output_type": "execute_result"
        }
      ],
      "source": [
        "dist_fitter.get_best(method = 'sumsquare_error')"
      ]
    }
  ],
  "metadata": {
    "colab": {
      "authorship_tag": "ABX9TyMpuYGIT3c75gNjW7RH8X3q",
      "include_colab_link": true,
      "provenance": []
    },
    "kernelspec": {
      "display_name": "base",
      "language": "python",
      "name": "python3"
    },
    "language_info": {
      "codemirror_mode": {
        "name": "ipython",
        "version": 3
      },
      "file_extension": ".py",
      "mimetype": "text/x-python",
      "name": "python",
      "nbconvert_exporter": "python",
      "pygments_lexer": "ipython3",
      "version": "3.9.13"
    },
    "vscode": {
      "interpreter": {
        "hash": "2cee82c4b67776536c6d19da2fa612b6c580d425ce359549dac91d0ad059c4ad"
      }
    }
  },
  "nbformat": 4,
  "nbformat_minor": 0
}
